{
 "cells": [
  {
   "cell_type": "markdown",
   "metadata": {},
   "source": [
    "# 🚀 Data Analysis Portfolio Project: Titanic Survival Analysis\n",
    "\n",
    "## 📌 Overview\n",
    "This project analyzes the famous Titanic dataset to uncover patterns in passenger survival. We'll explore demographic factors, socio-economic status, and travel arrangements that influenced survival rates."
   ]
  },
  {
   "cell_type": "code",
   "execution_count": null,
   "metadata": {},
   "outputs": [],
   "source": [
    "# Import necessary libraries\n",
    "import pandas as pd\n",
    "import numpy as np\n",
    "import seaborn as sns\n",
    "import matplotlib.pyplot as plt\n",
    "from warnings import filterwarnings\n",
    "\n",
    "filterwarnings('ignore')\n",
    "sns.set_style('whitegrid')\n",
    "%matplotlib inline\n",
    "\n",
    "# Load dataset\n",
    "df = sns.load_dataset('titanic')"
   ]
  },
  {
   "cell_type": "code",
   "execution_count": null,
   "metadata": {},
   "outputs": [],
   "source": [
    "# Display first 5 rows\n",
    "df.head()"
   ]
  },
  {
   "cell_type": "code",
   "execution_count": null,
   "metadata": {},
   "outputs": [],
   "source": [
    "# Dataset information\n",
    "df.info()"
   ]
  },
  {
   "cell_type": "code",
   "execution_count": null,
   "metadata": {},
   "outputs": [],
   "source": [
    "# Basic statistics\n",
    "df.describe(include='all').T"
   ]
  },
  {
   "cell_type": "code",
   "execution_count": null,
   "metadata": {},
   "outputs": [],
   "source": [
    "# Check missing values\n",
    "missing = df.isna().sum().sort_values(ascending=False)\n",
    "missing_percent = (missing/len(df))*100\n",
    "pd.concat([missing, missing_percent], axis=1, keys=['Missing Values', '% Missing'])"
   ]
  },
  {
   "cell_type": "code",
   "execution_count": null,
   "metadata": {},
   "outputs": [],
   "source": [
    "# Handle missing values\n",
    "# Drop deck column (too many missing)\n",
    "df.drop('deck', axis=1, inplace=True)\n",
    "\n",
    "# Fill age with median\n",
    "df['age'] = df['age'].fillna(df['age'].median())\n",
    "\n",
    "# Drop remaining rows with missing values (embarked: 2 rows)\n",
    "df.dropna(inplace=True)\n",
    "\n",
    "# Confirm missing values handled\n",
    "df.isna().sum().sum()"
   ]
  },
  {
   "cell_type": "code",
   "execution_count": null,
   "metadata": {},
   "outputs": [],
   "source": [
    "# Check for duplicates\n",
    "print(f\"Duplicate rows: {df.duplicated().sum()}\")"
   ]
  },
  {
   "cell_type": "code",
   "execution_count": null,
   "metadata": {},
   "outputs": [],
   "source": [
    "# Survival distribution\n",
    "plt.figure(figsize=(8,5))\n",
    "sns.countplot(x='survived', data=df, palette='viridis')\n",
    "plt.title('Survival Distribution (0 = Died, 1 = Survived)')\n",
    "plt.show()\n",
    "\n",
    "print(f\"Survival Rate: {df['survived'].mean():.2%}\")"
   ]
  },
  {
   "cell_type": "code",
   "execution_count": null,
   "metadata": {},
   "outputs": [],
   "source": [
    "# Gender distribution\n",
    "plt.figure(figsize=(8,5))\n",
    "sns.countplot(x='sex', data=df, palette='coolwarm')\n",
    "plt.title('Passenger Gender Distribution')\n",
    "plt.show()"
   ]
  },
  {
   "cell_type": "code",
   "execution_count": null,
   "metadata": {},
   "outputs": [],
   "source": [
    "# Age distribution\n",
    "plt.figure(figsize=(10,6))\n",
    "sns.histplot(df['age'], bins=30, kde=True, color='purple')\n",
    "plt.title('Age Distribution of Passengers')\n",
    "plt.xlabel('Age')\n",
    "plt.show()"
   ]
  },
  {
   "cell_type": "code",
   "execution_count": null,
   "metadata": {},
   "outputs": [],
   "source": [
    "# Survival by gender\n",
    "plt.figure(figsize=(8,5))\n",
    "sns.countplot(x='sex', hue='survived', data=df, palette='pastel')\n",
    "plt.title('Survival Count by Gender')\n",
    "plt.show()"
   ]
  },
  {
   "cell_type": "code",
   "execution_count": null,
   "metadata": {},
   "outputs": [],
   "source": [
    "# Survival by passenger class\n",
    "plt.figure(figsize=(8,5))\n",
    "sns.barplot(x='pclass', y='survived', data=df, palette='Set2')\n",
    "plt.title('Survival Rate by Passenger Class')\n",
    "plt.ylabel('Survival Rate')\n",
    "plt.xlabel('Passenger Class')\n",
    "plt.show()"
   ]
  },
  {
   "cell_type": "code",
   "execution_count": null,
   "metadata": {},
   "outputs": [],
   "source": [
    "# Age distribution by survival\n",
    "plt.figure(figsize=(10,6))\n",
    "sns.boxplot(x='survived', y='age', data=df, palette='Set3')\n",
    "plt.title('Age Distribution by Survival Status')\n",
    "plt.xticks([0,1], ['Died', 'Survived'])\n",
    "plt.show()"
   ]
  },
  {
   "cell_type": "code",
   "execution_count": null,
   "metadata": {},
   "outputs": [],
   "source": [
    "# Convert categorical variables\n",
    "df_encoded = pd.get_dummies(df[['survived', 'pclass', 'sex', 'age', 'fare', 'alone']])"
   ]
  },
  {
   "cell_type": "code",
   "execution_count": null,
   "metadata": {},
   "outputs": [],
   "source": [
    "# Correlation matrix\n",
    "plt.figure(figsize=(12,8))\n",
    "sns.heatmap(df_encoded.corr(), annot=True, cmap='coolwarm', fmt='.2f')\n",
    "plt.title('Correlation Matrix')\n",
    "plt.show()"
   ]
  },
  {
   "cell_type": "code",
   "execution_count": null,
   "metadata": {},
   "outputs": [],
   "source": [
    "# Survival rate by class and gender\n",
    "pd.pivot_table(df, index='sex', columns='pclass', values='survived', aggfunc='mean').style.background_gradient(cmap='YlGnBu')"
   ]
  },
  {
   "cell_type": "code",
   "execution_count": null,
   "metadata": {},
   "outputs": [],
   "source": [
    "# Fare distribution by survival and class\n",
    "plt.figure(figsize=(12,7))\n",
    "sns.violinplot(x='pclass', y='fare', hue='survived', data=df, split=True, palette='magma')\n",
    "plt.title('Fare Distribution by Class and Survival')\n",
    "plt.yscale('log')\n",
    "plt.legend(title='Survived', loc='upper right')\n",
    "plt.show()"
   ]
  },
  {
   "cell_type": "markdown",
   "metadata": {},
   "source": [
    "## Key Insights\n",
    "- Overall Survival Rate: Only 38.39% of passengers survived\n",
    "- Gender Impact: 74.20% of female passengers survived vs 18.89% of males\n",
    "- Class Mattered: 1st class had 62.96% survival vs 24.24% in 3rd class\n",
    "- Age Factor: Children under 10 had higher survival rates\n",
    "- Fare Correlation: Higher fare payers had better survival chances (r=0.26)\n",
    "\n",
    "## 📝 Conclusion\n",
    "The analysis reveals significant disparities in survival rates based on:\n",
    "\n",
    "- Gender (\"Women and children first\" policy evident)\n",
    "- Passenger class (Wealthier passengers had priority)\n",
    "- Age (Young children received priority)\n",
    "- Fare amount (Higher fares correlated with survival)\n",
    "\n",
    "This analysis demonstrates fundamental data science skills including data cleaning, exploratory analysis, visualization, and statistical interpretation."
   ]
  },
  {
   "cell_type": "code",
   "execution_count": null,
   "metadata": {},
   "outputs": [],
   "source": [
    "# Save cleaned dataset\n",
    "#df.to_csv('cleaned_titanic.csv', index=False)"
   ]
  }
 ],
 "metadata": {
  "kernelspec": {
   "display_name": "Python 3",
   "language": "python",
   "name": "python3"
  },
  "language_info": {
   "codemirror_mode": {
    "name": "ipython",
    "version": 3
   },
   "file_extension": ".py",
   "mimetype": "text/x-python",
   "name": "python",
   "nbconvert_exporter": "python",
   "pygments_lexer": "ipython3",
   "version": "3.8.5"
  }
 },
 "nbformat": 4,
 "nbformat_minor": 4
}
