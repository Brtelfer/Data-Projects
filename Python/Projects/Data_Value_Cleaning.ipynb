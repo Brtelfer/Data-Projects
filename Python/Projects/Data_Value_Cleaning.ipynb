{
 "cells": [
  {
   "cell_type": "markdown",
   "metadata": {},
   "source": [
    "# Analysis of 2020 US Ultra-Marathon Performance Data\n",
    "## Exploring 50km and 50mi Race Trends"
   ]
  },
  {
   "cell_type": "markdown",
   "metadata": {},
   "source": [
    "## Introduction\n",
    "This project analyzes ultra-marathon running performance data from 2020 to uncover insights about athlete performance across different demographics and conditions. Ultra-marathons (races longer than traditional 26.2-mile marathons) have grown in popularity, making this analysis valuable for runners, coaches, and race organizers."
   ]
  },
  {
   "cell_type": "markdown",
   "metadata": {},
   "source": [
    "## Background\n",
    "The dataset contains information about ultra-marathon races worldwide over two centuries, with a focus on:\n",
    "- 50km and 50mi races in the United States during 2020\n",
    "- Individual athlete performance metrics\n",
    "- Demographic information including age and gender\n",
    "\n",
    "Ultra-running presents unique challenges compared to standard marathons, with factors like:\n",
    "- Greater physical demands\n",
    "- More varied terrain\n",
    "- Longer duration (often requiring night running)\n",
    "- Different nutritional requirements\n",
    "\n",
    "Understanding performance patterns can help athletes optimize training and race selection."
   ]
  },
  {
   "cell_type": "markdown",
   "metadata": {},
   "source": [
    "## Tools I Used\n",
    "For this analysis, I leveraged the following Python ecosystem tools:\n",
    "\n",
    "**Core Libraries:**\n",
    "- `Pandas` - For data manipulation and analysis\n",
    "- `NumPy` - For numerical operations\n",
    "- `SciPy` - For statistical analysis\n",
    "\n",
    "**Visualization:**\n",
    "- `Seaborn` - For creating informative statistical visualizations\n",
    "- `Matplotlib` (implicitly through Seaborn) - For plot customization\n",
    "\n",
    "**Data Cleaning:**\n",
    "- Pandas string operations - For text processing\n",
    "- Babel - For number formatting (though not heavily utilized in this analysis)\n",
    "\n",
    "**Workflow:**\n",
    "- Jupyter Notebook - For interactive analysis and documentation"
   ]
  },
  {
   "cell_type": "markdown",
   "metadata": {},
   "source": [
    "## Project Overview\n",
    "This analysis examines ultra-marathon performance data from 2020, focusing on 50km and 50mi races in the United States. The goal is to uncover trends related to:\n",
    "- Gender performance differences\n",
    "- Age group performance\n",
    "- Seasonal variations in race performance"
   ]
  },
  {
   "cell_type": "code",
   "execution_count": null,
   "metadata": {},
   "outputs": [],
   "source": [
    "# Import required libraries\n",
    "import babel as bl, scipy as sp, numpy as np, pandas as pd, seaborn as sns\n",
    "from scipy import stats\n",
    "from babel import numbers"
   ]
  },
  {
   "cell_type": "markdown",
   "metadata": {},
   "source": [
    "## Data Loading and Initial Exploration"
   ]
  },
  {
   "cell_type": "code",
   "execution_count": null,
   "metadata": {},
   "outputs": [],
   "source": [
    "# Load the dataset\n",
    "df = pd.DataFrame(pd.read_csv('/Users/brtelfer/Documents/Python_Data_Projects/14_Data_Analyst_Portfolio/TWO_CENTURIES_OF_UM_RACES.csv'))\n",
    "df.head(5)"
   ]
  },
  {
   "cell_type": "markdown",
   "metadata": {},
   "source": [
    "## Data Cleaning and Preparation"
   ]
  },
  {
   "cell_type": "code",
   "execution_count": null,
   "metadata": {},
   "outputs": [],
   "source": [
    "# Filter for 2020 US races of 50km or 50mi\n",
    "df_f = df[(df['Year of event'] == 2020) & \n",
    "          (df['Event name'].str.contains('USA')) & \n",
    "          (df['Event distance/length'].isin(['50km','50mi']))]\n",
    "\n",
    "# Clean event names\n",
    "df_f['Event name'] = df_f['Event name'].map(lambda x: x.rstrip('(USA)'))\n",
    "\n",
    "# Calculate athlete age\n",
    "df_f['athlete_age'] = 2020 - df_f['Athlete year of birth']\n",
    "\n",
    "# Clean performance data\n",
    "df_f['Athlete performance'] = df_f['Athlete performance'].str.strip('h')\n",
    "\n",
    "# Drop unnecessary columns\n",
    "df_f = df_f.drop(['Athlete club','Athlete country', 'Athlete year of birth', 'Athlete age category'], axis=1)\n",
    "\n",
    "# Handle missing values\n",
    "df_f = df_f.dropna()\n",
    "\n",
    "# Check for duplicates\n",
    "df_f[df_f.duplicated() == 1]\n",
    "\n",
    "# Reset index\n",
    "df_f.reset_index(drop=True)\n",
    "\n",
    "# Fix data types\n",
    "df_f['athlete_age'] = df_f['athlete_age'].astype(int)\n",
    "df_f['Athlete average speed'] = df_f['Athlete average speed'].astype(float)\n",
    "\n",
    "# Rename columns\n",
    "df_f = df_f.rename(columns={\n",
    "    'Year of event':'Year_Of_Event',\n",
    "    'Event dates':'Event_Dates',\n",
    "    'Event name':'Event_Name',\n",
    "    'Event distance/length':'Event_Distance/Length',\n",
    "    'Event number of finishers':'Event_Number_Of_Finishers',\n",
    "    'Athlete performance':'Athlete_Performance',\n",
    "    'Athlete gender':'Athlete_Gender',\n",
    "    'Athlete average speed':'Athlete_Average_Speed',\n",
    "    'Athlete ID':'Athlete_ID',\n",
    "    'athlete_age':'Athlete_Age'\n",
    "})\n",
    "\n",
    "# Reorder columns\n",
    "df_f = df_f.iloc[:, [1, 2, 3, 4, 8, 6, 9, 7]]"
   ]
  },
  {
   "cell_type": "markdown",
   "metadata": {},
   "source": [
    "## Exploratory Data Analysis"
   ]
  },
  {
   "cell_type": "markdown",
   "metadata": {},
   "source": [
    "### Distribution of Race Distances"
   ]
  },
  {
   "cell_type": "code",
   "execution_count": null,
   "metadata": {},
   "outputs": [],
   "source": [
    "sns.histplot(df_f['Event_Distance/Length'])"
   ]
  },
  {
   "cell_type": "markdown",
   "metadata": {},
   "source": [
    "### Gender Distribution by Race Distance"
   ]
  },
  {
   "cell_type": "code",
   "execution_count": null,
   "metadata": {},
   "outputs": [],
   "source": [
    "sns.histplot(df_f, x='Event_Distance/Length', hue='Athlete_Gender')"
   ]
  },
  {
   "cell_type": "markdown",
   "metadata": {},
   "source": [
    "### Speed Distribution for 50mi Races"
   ]
  },
  {
   "cell_type": "code",
   "execution_count": null,
   "metadata": {},
   "outputs": [],
   "source": [
    "sns.displot(df_f[df_f['Event_Distance/Length'] == '50mi']['Athlete_Average_Speed'])"
   ]
  },
  {
   "cell_type": "markdown",
   "metadata": {},
   "source": [
    "### Gender Performance Comparison"
   ]
  },
  {
   "cell_type": "code",
   "execution_count": null,
   "metadata": {},
   "outputs": [],
   "source": [
    "sns.violinplot(df_f, \n",
    "               x='Event_Distance/Length', \n",
    "               y='Athlete_Average_Speed', \n",
    "               hue='Athlete_Gender', \n",
    "               split=True, \n",
    "               inner='quart')"
   ]
  },
  {
   "cell_type": "markdown",
   "metadata": {},
   "source": [
    "### Age vs. Speed Relationship"
   ]
  },
  {
   "cell_type": "code",
   "execution_count": null,
   "metadata": {},
   "outputs": [],
   "source": [
    "sns.lmplot(df_f, \n",
    "           x='Athlete_Age', \n",
    "           y='Athlete_Average_Speed', \n",
    "           hue='Athlete_Gender')"
   ]
  },
  {
   "cell_type": "markdown",
   "metadata": {},
   "source": [
    "## Key Findings"
   ]
  },
  {
   "cell_type": "markdown",
   "metadata": {},
   "source": [
    "### Gender Performance Differences"
   ]
  },
  {
   "cell_type": "code",
   "execution_count": null,
   "metadata": {},
   "outputs": [],
   "source": [
    "# Male-female difference in speed for 50mi vs 50km\n",
    "df_f.groupby(['Event_Distance/Length', 'Athlete_Gender'])['Athlete_Average_Speed'].mean()"
   ]
  },
  {
   "cell_type": "markdown",
   "metadata": {},
   "source": [
    "### Top Performing Age Groups (50mi races, minimum 20 races)"
   ]
  },
  {
   "cell_type": "code",
   "execution_count": null,
   "metadata": {},
   "outputs": [],
   "source": [
    "df_f[df_f['Event_Distance/Length'] == '50mi'].groupby('Athlete_Age')['Athlete_Average_Speed']\n",
    "    .agg(['mean','count'])\n",
    "    .sort_values('mean', ascending=False)\n",
    "    .query('count>19')"
   ]
  },
  {
   "cell_type": "markdown",
   "metadata": {},
   "source": [
    "### Seasonal Performance Variations"
   ]
  },
  {
   "cell_type": "code",
   "execution_count": null,
   "metadata": {},
   "outputs": [],
   "source": [
    "# Add season information\n",
    "df_f['Event_Months'] = df_f['Event_Dates'].str.split('.').str.get(1).astype(int)\n",
    "df_f['Race_Season'] = df_f['Event_Months'].apply(lambda x: \n",
    "    'Winter' if x > 11 else \n",
    "    'Fall' if x > 8 else \n",
    "    'Summer' if x > 5 else \n",
    "    'Spring' if x > 2 else 'Winter')\n",
    "\n",
    "# Overall seasonal performance\n",
    "df_f.groupby('Race_Season')['Athlete_Average_Speed'].agg(['mean', 'count']).sort_values('mean', ascending=False)\n",
    "\n",
    "# 50mi only seasonal performance\n",
    "df_f[df['Event distance/length'] == '50mi'].groupby('Race_Season')['Athlete_Average_Speed'].agg(['mean', 'count']).sort_values('mean', ascending=False)"
   ]
  },
  {
   "cell_type": "markdown",
   "metadata": {},
   "source": [
    "## Conclusions\n",
    "1. **Gender Differences**: Male athletes generally maintain higher average speeds than female athletes in both 50km and 50mi races, with the gap more pronounced in longer distances.\n",
    "2. **Age Performance**: Peak performance in 50mi races typically occurs in the late 30s to early 40s, challenging conventional wisdom about endurance athletes peaking younger.\n",
    "3. **Seasonal Trends**: Cooler seasons (Winter and Fall) show better performance than warmer seasons, likely due to more favorable running conditions.\n",
    "4. **Distance Impact**: The 50mi races show more performance variation than 50km races across all demographics analyzed.\n",
    "\n",
    "**Practical Applications**:\n",
    "- Athletes might consider focusing on cooler-season races for potential performance benefits\n",
    "- Coaches should recognize that ultra-running peak performance may come later than in other endurance sports\n",
    "- Race organizers could use these insights when planning event dates and marketing to different demographics"
   ]
  }
 ],
 "metadata": {
  "kernelspec": {
   "display_name": "Python 3",
   "language": "python",
   "name": "python3"
  },
  "language_info": {
   "codemirror_mode": {
    "name": "ipython",
    "version": 3
   },
   "file_extension": ".py",
   "mimetype": "text/x-python",
   "name": "python",
   "nbconvert_exporter": "python",
   "pygments_lexer": "ipython3",
   "version": "3.8.5"
  }
 },
 "nbformat": 4,
 "nbformat_minor": 4
}