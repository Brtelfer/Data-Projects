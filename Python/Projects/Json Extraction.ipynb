{
 "cells": [
  {
   "cell_type": "markdown",
   "metadata": {},
   "source": [
    "### <center>Hello! Today I am going to demonstrate how `flatten_json` can be used to extract data from complex json structures</center>"
   ]
  },
  {
   "cell_type": "markdown",
   "metadata": {},
   "source": [
    "#### <center><b>#1:</b> First, we need to load in the json and learn about its structure.</center>"
   ]
  },
  {
   "cell_type": "markdown",
   "metadata": {},
   "source": [
    "### Import the required libraries\n",
    "<hr>"
   ]
  },
  {
   "cell_type": "code",
   "execution_count": 33,
   "metadata": {},
   "outputs": [],
   "source": [
    "import json, pandas as pd, pprint, graphviz, json2txttree, ipytree\n",
    "from json2txttree import json2txttree\n",
    "from flatten_json import flatten\n",
    "from anytree import Node, RenderTree"
   ]
  },
  {
   "cell_type": "markdown",
   "metadata": {},
   "source": [
    "### Load the data\n",
    "<hr>"
   ]
  },
  {
   "cell_type": "code",
   "execution_count": null,
   "metadata": {},
   "outputs": [],
   "source": [
    "with open('/Users/brtelfer/Documents/Python_Data_Projects/Regex_Training/DataSets/large_dummy_data.json', 'r') as f:\n",
    "  data = json.load(f)"
   ]
  },
  {
   "cell_type": "markdown",
   "metadata": {},
   "source": [
    "### And using json2txttree, observe the structure of the json file in tree format\n",
    "<hr>"
   ]
  },
  {
   "cell_type": "markdown",
   "metadata": {},
   "source": [
    "Print json hierarchy as a tree. In notebooks, you can click on the <mark>view as a scrollable element</mark> to see the whole structure\n",
    "\n",
    "This helps with visualizing complex json files"
   ]
  },
  {
   "cell_type": "code",
   "execution_count": 68,
   "metadata": {},
   "outputs": [
    {
     "name": "stdout",
     "output_type": "stream",
     "text": [
      "└─  (array)\n",
      "   └─  (object)\n",
      "      ├─ \"_id\" (string)\n",
      "      ├─ \"statement\" (object)\n",
      "      │  ├─ \"actor\" (object)\n",
      "      │  │  ├─ \"account\" (object)\n",
      "      │  │  │  ├─ \"homePage\" (string)\n",
      "      │  │  │  └─ \"name\" (string)\n",
      "      │  │  ├─ \"name\" (string)\n",
      "      │  │  ├─ \"id\" (string)\n",
      "      │  │  ├─ \"objectType\" (number)\n",
      "      │  │  └─ \"mbox\" (number)\n",
      "      │  ├─ \"verb\" (object)\n",
      "      │  │  ├─ \"id\" (string)\n",
      "      │  │  └─ \"display\" (object)\n",
      "      │  │     ├─ \"en-US\" (string)\n",
      "      │  │     ├─ \"de-DE\" (string)\n",
      "      │  │     ├─ \"fr-FR\" (string)\n",
      "      │  │     └─ \"es-ES\" (string)\n",
      "      │  ├─ \"object\" (object)\n",
      "      │  │  ├─ \"id\" (string)\n",
      "      │  │  ├─ \"definition\" (object)\n",
      "      │  │  │  ├─ \"name\" (object)\n",
      "      │  │  │  │  └─ \"en-US\" (string)\n",
      "      │  │  │  ├─ \"description\" (object)\n",
      "      │  │  │  │  └─ \"en-US\" (string)\n",
      "      │  │  │  ├─ \"type\" (string)\n",
      "      │  │  │  └─ \"extensions\" (number)\n",
      "      │  │  └─ \"objectType\" (string)\n",
      "      │  ├─ \"context\" (object)\n",
      "      │  │  └─ \"contextActivities\" (object)\n",
      "      │  │     ├─ \"grouping\" (array)\n",
      "      │  │     │  └─  (object)\n",
      "      │  │     │     ├─ \"id\" (string)\n",
      "      │  │     │     └─ \"definition\" (object)\n",
      "      │  │     │        ├─ \"type\" (number)\n",
      "      │  │     │        └─ \"extensions\" (object)\n",
      "      │  │     │           └─ \"0EHjVnWCpG\" (string)\n",
      "      │  │     └─ \"category\" (array)\n",
      "      │  │        └─  (string)\n",
      "      │  ├─ \"result\" (object)\n",
      "      │  │  ├─ \"score\" (object)\n",
      "      │  │  │  ├─ \"raw\" (number)\n",
      "      │  │  │  └─ \"max\" (number)\n",
      "      │  │  ├─ \"response\" (string)\n",
      "      │  │  └─ \"extensions\" (number)\n",
      "      │  ├─ \"timestamp\" (string)\n",
      "      │  ├─ \"id\" (string)\n",
      "      │  ├─ \"stored\" (string)\n",
      "      │  └─ \"authority\" (object)\n",
      "      │     ├─ \"objectType\" (string)\n",
      "      │     ├─ \"account\" (object)\n",
      "      │     │  ├─ \"homePage\" (string)\n",
      "      │     │  └─ \"name\" (string)\n",
      "      │     └─ \"id\" (string)\n",
      "      ├─ \"id\" (string)\n",
      "      ├─ \"meta\" (object)\n",
      "      │  ├─ \"session\" (string)\n",
      "      │  ├─ \"sequence\" (number)\n",
      "      │  ├─ \"useragent\" (number)\n",
      "      │  ├─ \"ip\" (string)\n",
      "      │  ├─ \"host\" (number)\n",
      "      │  ├─ \"method\" (string)\n",
      "      │  └─ \"protocol\" (number)\n",
      "      ├─ \"agent\" (array)\n",
      "      │  └─  (string)\n",
      "      ├─ \"verb\" (array)\n",
      "      │  └─  (string)\n",
      "      ├─ \"activity\" (array)\n",
      "      │  └─  (string)\n",
      "      ├─ \"registration\" (array)\n",
      "      ├─ \"relatedAgents\" (array)\n",
      "      │  └─  (string)\n",
      "      ├─ \"relatedActivities\" (array)\n",
      "      │  └─  (string)\n",
      "      ├─ \"voided\" (number)\n",
      "      ├─ \"voids\" (number)\n",
      "      ├─ \"provisional\" (number)\n",
      "      └─ \"response\" (object)\n",
      "         ├─ \"values\" (array)\n",
      "         │  └─  (object)\n",
      "         │     └─ \"value\" (string)\n",
      "         └─ \"normalized\" (string)\n",
      "\n"
     ]
    }
   ],
   "source": [
    "print(json2txttree(data))"
   ]
  },
  {
   "cell_type": "markdown",
   "metadata": {},
   "source": [
    "### <center><b>#2:</b> Next, we will use the `flatten_json` package in conjunction with `pandas` to load the data into python</center>\n",
    "<hr></hr>"
   ]
  },
  {
   "cell_type": "markdown",
   "metadata": {},
   "source": [
    "`pd.DataFrame` can be used with `flatten`. Every path will be denoted by `.`"
   ]
  },
  {
   "cell_type": "code",
   "execution_count": 69,
   "metadata": {},
   "outputs": [],
   "source": [
    "df = pd.DataFrame((flatten(record, '.') for record in data))"
   ]
  },
  {
   "cell_type": "markdown",
   "metadata": {},
   "source": [
    "### Assess the resulting dataframe\n",
    "<hr></hr>"
   ]
  },
  {
   "cell_type": "code",
   "execution_count": 53,
   "metadata": {},
   "outputs": [
    {
     "data": {
      "text/html": [
       "<div>\n",
       "<style scoped>\n",
       "    .dataframe tbody tr th:only-of-type {\n",
       "        vertical-align: middle;\n",
       "    }\n",
       "\n",
       "    .dataframe tbody tr th {\n",
       "        vertical-align: top;\n",
       "    }\n",
       "\n",
       "    .dataframe thead th {\n",
       "        text-align: right;\n",
       "    }\n",
       "</style>\n",
       "<table border=\"1\" class=\"dataframe\">\n",
       "  <thead>\n",
       "    <tr style=\"text-align: right;\">\n",
       "      <th></th>\n",
       "      <th>_id</th>\n",
       "      <th>statement.actor.account.homePage</th>\n",
       "      <th>statement.actor.account.name</th>\n",
       "      <th>statement.actor.name</th>\n",
       "      <th>statement.actor.id</th>\n",
       "      <th>statement.actor.objectType</th>\n",
       "      <th>statement.actor.mbox</th>\n",
       "      <th>statement.verb.id</th>\n",
       "      <th>statement.verb.display.en-US</th>\n",
       "      <th>statement.verb.display.de-DE</th>\n",
       "      <th>...</th>\n",
       "      <th>statement.object.definition.extensions.bXEY1E5WLG</th>\n",
       "      <th>statement.context.contextActivities.grouping.0.definition.extensions.yTbtUTVPie</th>\n",
       "      <th>statement.object.definition.extensions.fsQa37o4cK</th>\n",
       "      <th>statement.object.definition.extensions.rzcLgSYOzp</th>\n",
       "      <th>statement.context.contextActivities.grouping.0.definition.extensions.6Wj3DVYpPu</th>\n",
       "      <th>statement.object.definition.extensions.9hBFN0lGH7</th>\n",
       "      <th>statement.context.contextActivities.grouping.0.definition.extensions.4PuVNMKsQe</th>\n",
       "      <th>statement.result.extensions.jlhkcSzQM6</th>\n",
       "      <th>statement.object.definition.extensions.EOgJ4f9Rm0</th>\n",
       "      <th>statement.context.contextActivities.grouping.0.definition.extensions.rjxve9a8sm</th>\n",
       "    </tr>\n",
       "  </thead>\n",
       "  <tbody>\n",
       "    <tr>\n",
       "      <th>0</th>\n",
       "      <td>p6GaHcnPHB</td>\n",
       "      <td>https://9qZdL2Qu89.com</td>\n",
       "      <td>2qAquWLlSw</td>\n",
       "      <td>L6igBbjHa2</td>\n",
       "      <td>OLUcQAg1LN</td>\n",
       "      <td>None</td>\n",
       "      <td>None</td>\n",
       "      <td>lG2RychGdw</td>\n",
       "      <td>Z3oisqGCEN</td>\n",
       "      <td>bKOJi25Ro8</td>\n",
       "      <td>...</td>\n",
       "      <td>NaN</td>\n",
       "      <td>NaN</td>\n",
       "      <td>NaN</td>\n",
       "      <td>NaN</td>\n",
       "      <td>NaN</td>\n",
       "      <td>NaN</td>\n",
       "      <td>NaN</td>\n",
       "      <td>NaN</td>\n",
       "      <td>NaN</td>\n",
       "      <td>NaN</td>\n",
       "    </tr>\n",
       "    <tr>\n",
       "      <th>1</th>\n",
       "      <td>dvAFvr4vo7</td>\n",
       "      <td>https://nzTBUvw9wh.com</td>\n",
       "      <td>LP86vkaT1W</td>\n",
       "      <td>RNJNFndINX</td>\n",
       "      <td>UR5Sz07K14</td>\n",
       "      <td>Group</td>\n",
       "      <td>None</td>\n",
       "      <td>7iR5m4YtuN</td>\n",
       "      <td>0snI3o3RqB</td>\n",
       "      <td>2YU0Ah0Xth</td>\n",
       "      <td>...</td>\n",
       "      <td>NaN</td>\n",
       "      <td>NaN</td>\n",
       "      <td>NaN</td>\n",
       "      <td>NaN</td>\n",
       "      <td>NaN</td>\n",
       "      <td>NaN</td>\n",
       "      <td>NaN</td>\n",
       "      <td>NaN</td>\n",
       "      <td>NaN</td>\n",
       "      <td>NaN</td>\n",
       "    </tr>\n",
       "    <tr>\n",
       "      <th>2</th>\n",
       "      <td>4NsB21aZlA</td>\n",
       "      <td>https://ZmiZFwPWQN.com</td>\n",
       "      <td>Vydbp7RVow</td>\n",
       "      <td>XqWGJzNdNR</td>\n",
       "      <td>ASBXxy54sk</td>\n",
       "      <td>Group</td>\n",
       "      <td>None</td>\n",
       "      <td>8sLR091mKK</td>\n",
       "      <td>s6debveCaX</td>\n",
       "      <td>MzW30R0BW5</td>\n",
       "      <td>...</td>\n",
       "      <td>NaN</td>\n",
       "      <td>NaN</td>\n",
       "      <td>NaN</td>\n",
       "      <td>NaN</td>\n",
       "      <td>NaN</td>\n",
       "      <td>NaN</td>\n",
       "      <td>NaN</td>\n",
       "      <td>NaN</td>\n",
       "      <td>NaN</td>\n",
       "      <td>NaN</td>\n",
       "    </tr>\n",
       "    <tr>\n",
       "      <th>3</th>\n",
       "      <td>8txsdHVgKf</td>\n",
       "      <td>https://dFtOa7gU03.com</td>\n",
       "      <td>E29FHlrP94</td>\n",
       "      <td>TDDJGfVLha</td>\n",
       "      <td>RKHILVWsdm</td>\n",
       "      <td>None</td>\n",
       "      <td>None</td>\n",
       "      <td>0gxnw6hd1q</td>\n",
       "      <td>7WBncdjbuc</td>\n",
       "      <td>pb2FGUpzEw</td>\n",
       "      <td>...</td>\n",
       "      <td>NaN</td>\n",
       "      <td>NaN</td>\n",
       "      <td>NaN</td>\n",
       "      <td>NaN</td>\n",
       "      <td>NaN</td>\n",
       "      <td>NaN</td>\n",
       "      <td>NaN</td>\n",
       "      <td>NaN</td>\n",
       "      <td>NaN</td>\n",
       "      <td>NaN</td>\n",
       "    </tr>\n",
       "    <tr>\n",
       "      <th>4</th>\n",
       "      <td>y2WhJMaUlu</td>\n",
       "      <td>https://pQF3t3iGoI.com</td>\n",
       "      <td>HY6xRHXo2k</td>\n",
       "      <td>pIAo4mRpo0</td>\n",
       "      <td>mcDVLRs8pX</td>\n",
       "      <td>None</td>\n",
       "      <td>None</td>\n",
       "      <td>HwO32gpkUy</td>\n",
       "      <td>ekeKrNTmno</td>\n",
       "      <td>None</td>\n",
       "      <td>...</td>\n",
       "      <td>NaN</td>\n",
       "      <td>NaN</td>\n",
       "      <td>NaN</td>\n",
       "      <td>NaN</td>\n",
       "      <td>NaN</td>\n",
       "      <td>NaN</td>\n",
       "      <td>NaN</td>\n",
       "      <td>NaN</td>\n",
       "      <td>NaN</td>\n",
       "      <td>NaN</td>\n",
       "    </tr>\n",
       "  </tbody>\n",
       "</table>\n",
       "<p>5 rows × 1549 columns</p>\n",
       "</div>"
      ],
      "text/plain": [
       "          _id statement.actor.account.homePage statement.actor.account.name  \\\n",
       "0  p6GaHcnPHB           https://9qZdL2Qu89.com                   2qAquWLlSw   \n",
       "1  dvAFvr4vo7           https://nzTBUvw9wh.com                   LP86vkaT1W   \n",
       "2  4NsB21aZlA           https://ZmiZFwPWQN.com                   Vydbp7RVow   \n",
       "3  8txsdHVgKf           https://dFtOa7gU03.com                   E29FHlrP94   \n",
       "4  y2WhJMaUlu           https://pQF3t3iGoI.com                   HY6xRHXo2k   \n",
       "\n",
       "  statement.actor.name statement.actor.id statement.actor.objectType  \\\n",
       "0           L6igBbjHa2         OLUcQAg1LN                       None   \n",
       "1           RNJNFndINX         UR5Sz07K14                      Group   \n",
       "2           XqWGJzNdNR         ASBXxy54sk                      Group   \n",
       "3           TDDJGfVLha         RKHILVWsdm                       None   \n",
       "4           pIAo4mRpo0         mcDVLRs8pX                       None   \n",
       "\n",
       "  statement.actor.mbox statement.verb.id statement.verb.display.en-US  \\\n",
       "0                 None        lG2RychGdw                   Z3oisqGCEN   \n",
       "1                 None        7iR5m4YtuN                   0snI3o3RqB   \n",
       "2                 None        8sLR091mKK                   s6debveCaX   \n",
       "3                 None        0gxnw6hd1q                   7WBncdjbuc   \n",
       "4                 None        HwO32gpkUy                   ekeKrNTmno   \n",
       "\n",
       "  statement.verb.display.de-DE  ...  \\\n",
       "0                   bKOJi25Ro8  ...   \n",
       "1                   2YU0Ah0Xth  ...   \n",
       "2                   MzW30R0BW5  ...   \n",
       "3                   pb2FGUpzEw  ...   \n",
       "4                         None  ...   \n",
       "\n",
       "  statement.object.definition.extensions.bXEY1E5WLG  \\\n",
       "0                                               NaN   \n",
       "1                                               NaN   \n",
       "2                                               NaN   \n",
       "3                                               NaN   \n",
       "4                                               NaN   \n",
       "\n",
       "  statement.context.contextActivities.grouping.0.definition.extensions.yTbtUTVPie  \\\n",
       "0                                                NaN                                \n",
       "1                                                NaN                                \n",
       "2                                                NaN                                \n",
       "3                                                NaN                                \n",
       "4                                                NaN                                \n",
       "\n",
       "  statement.object.definition.extensions.fsQa37o4cK  \\\n",
       "0                                               NaN   \n",
       "1                                               NaN   \n",
       "2                                               NaN   \n",
       "3                                               NaN   \n",
       "4                                               NaN   \n",
       "\n",
       "  statement.object.definition.extensions.rzcLgSYOzp  \\\n",
       "0                                               NaN   \n",
       "1                                               NaN   \n",
       "2                                               NaN   \n",
       "3                                               NaN   \n",
       "4                                               NaN   \n",
       "\n",
       "  statement.context.contextActivities.grouping.0.definition.extensions.6Wj3DVYpPu  \\\n",
       "0                                                NaN                                \n",
       "1                                                NaN                                \n",
       "2                                                NaN                                \n",
       "3                                                NaN                                \n",
       "4                                                NaN                                \n",
       "\n",
       "  statement.object.definition.extensions.9hBFN0lGH7  \\\n",
       "0                                               NaN   \n",
       "1                                               NaN   \n",
       "2                                               NaN   \n",
       "3                                               NaN   \n",
       "4                                               NaN   \n",
       "\n",
       "   statement.context.contextActivities.grouping.0.definition.extensions.4PuVNMKsQe  \\\n",
       "0                                                NaN                                 \n",
       "1                                                NaN                                 \n",
       "2                                                NaN                                 \n",
       "3                                                NaN                                 \n",
       "4                                                NaN                                 \n",
       "\n",
       "  statement.result.extensions.jlhkcSzQM6  \\\n",
       "0                                    NaN   \n",
       "1                                    NaN   \n",
       "2                                    NaN   \n",
       "3                                    NaN   \n",
       "4                                    NaN   \n",
       "\n",
       "  statement.object.definition.extensions.EOgJ4f9Rm0  \\\n",
       "0                                               NaN   \n",
       "1                                               NaN   \n",
       "2                                               NaN   \n",
       "3                                               NaN   \n",
       "4                                               NaN   \n",
       "\n",
       "  statement.context.contextActivities.grouping.0.definition.extensions.rjxve9a8sm  \n",
       "0                                                NaN                               \n",
       "1                                                NaN                               \n",
       "2                                                NaN                               \n",
       "3                                                NaN                               \n",
       "4                                                NaN                               \n",
       "\n",
       "[5 rows x 1549 columns]"
      ]
     },
     "execution_count": 53,
     "metadata": {},
     "output_type": "execute_result"
    }
   ],
   "source": [
    "df.head()"
   ]
  },
  {
   "cell_type": "markdown",
   "metadata": {},
   "source": [
    "`flatten` transforms the json file into a single level of key-value pairs. Hence, all hierarchies are \"flattened\"."
   ]
  },
  {
   "cell_type": "markdown",
   "metadata": {},
   "source": [
    "#### Let's look at the number of columns in our dataframe"
   ]
  },
  {
   "cell_type": "code",
   "execution_count": 54,
   "metadata": {},
   "outputs": [
    {
     "data": {
      "text/plain": [
       "1549"
      ]
     },
     "execution_count": 54,
     "metadata": {},
     "output_type": "execute_result"
    }
   ],
   "source": [
    "len(df.columns)"
   ]
  },
  {
   "cell_type": "markdown",
   "metadata": {},
   "source": [
    "### Wow, that's a lot of columns!\n",
    "- We need a surefire strategy for identifying which of these 1,549 are relevant to our query\n",
    "\n",
    "First, let's identify which values we actually want to extract by looking at our raw json file.<br>\n",
    "Opening the file with Notepad ++ or VS Code will let you read the structure more easily.<br>"
   ]
  },
  {
   "cell_type": "markdown",
   "metadata": {},
   "source": [
    "### <b>#3: </b>We will extract the following values from the database by first getting the column headers.\n",
    "<hr>"
   ]
  },
  {
   "cell_type": "markdown",
   "metadata": {},
   "source": [
    "-   `timestamp`<br>\n",
    "-   `session`\n",
    "-   `ip` \n",
    "-   `raw`\n",
    "-   `max` \n",
    "-   `timestamp`\n",
    "-   `homePage`\n",
    "-   `useragent`\n",
    "-   `mbox`\n",
    "\n",
    "A great way to start, is by identifying which columns contain these values within their pathways."
   ]
  },
  {
   "cell_type": "markdown",
   "metadata": {},
   "source": [
    "Filter by <b>columns</b>(`df.columns`) where the string(`str`) of the `columns` contains the target value.\n",
    "\n",
    "`r''` will denote the use of <mark>Regex</mark>. Within regex the `|` specifies OR. `case=False` tells the `contains()` function to NOT be case sensitive.\n",
    "<hr>"
   ]
  },
  {
   "cell_type": "code",
   "execution_count": 51,
   "metadata": {},
   "outputs": [
    {
     "data": {
      "text/plain": [
       "Index(['statement.actor.account.homePage', 'statement.actor.mbox',\n",
       "       'statement.result.score.raw', 'statement.result.score.max',\n",
       "       'statement.timestamp', 'statement.authority.account.homePage',\n",
       "       'meta.session', 'meta.useragent', 'meta.ip'],\n",
       "      dtype='object')"
      ]
     },
     "execution_count": 51,
     "metadata": {},
     "output_type": "execute_result"
    }
   ],
   "source": [
    "df.columns[df.columns.str.contains(r'timestamp|session|\\bip\\b|raw|max|homepage|useragent|mbox',case=False)]"
   ]
  },
  {
   "cell_type": "markdown",
   "metadata": {},
   "source": [
    "<b>ip</b> is surrounded by `\\b \\b` to avoid getting things like .<mark>ip</mark>K0gYeMmu in the pathway list. `\\b` is regex that excludes characters surrounded by alphanumeric characters."
   ]
  },
  {
   "cell_type": "markdown",
   "metadata": {},
   "source": [
    "Now that we have the whole list, let's try selecting a single column corresponding to the homePage value. Because there are two homepage values:\n",
    "-   `statement.actor.account.homePage`<br>\n",
    "-   `statement.authority.account.homePage`<br>\n",
    "\n",
    "Make sure to select the one you actually want! For this example, let's go with the second one."
   ]
  },
  {
   "cell_type": "markdown",
   "metadata": {},
   "source": [
    "### <center><b>#4:</b> Now we will use the columns index to create a copy dataframe with the requested information</center>\n",
    "<hr></hr>"
   ]
  },
  {
   "cell_type": "markdown",
   "metadata": {},
   "source": [
    "<b>1.</b> First, let's split the pathway headers by `'.'` and select the last element to get a clean list of the desired column headers.\n",
    "-   This will allow us to create a dataframe with clear and consice column headers as opposed to long directory pathways\n",
    "\n",
    "<b>2.</b> Our previous query of the current column headers will become our target pathways\n",
    "\n",
    "<b>3.</b> And remember, because we only want the authority homepages, we will specify that path in the regex as '.authority.account.homePage'"
   ]
  },
  {
   "cell_type": "code",
   "execution_count": 62,
   "metadata": {},
   "outputs": [
    {
     "data": {
      "text/plain": [
       "Index(['statement.actor.mbox', 'statement.result.score.raw',\n",
       "       'statement.result.score.max', 'statement.timestamp',\n",
       "       'statement.authority.account.homePage', 'meta.session',\n",
       "       'meta.useragent', 'meta.ip'],\n",
       "      dtype='object')"
      ]
     },
     "execution_count": 62,
     "metadata": {},
     "output_type": "execute_result"
    }
   ],
   "source": [
    "Target_Pathways = df.columns[df.columns.str.contains(r'timestamp|session|\\bip\\b|raw|max|timestamp|.authority.account.homePage|useragent|mbox',case=False)]\n",
    "Target_Pathways"
   ]
  },
  {
   "cell_type": "markdown",
   "metadata": {},
   "source": [
    "### Seperate by `.`\n",
    "<hr>"
   ]
  },
  {
   "cell_type": "code",
   "execution_count": 59,
   "metadata": {},
   "outputs": [
    {
     "data": {
      "text/plain": [
       "Index([                   ['statement', 'actor', 'mbox'],\n",
       "                 ['statement', 'result', 'score', 'raw'],\n",
       "                 ['statement', 'result', 'score', 'max'],\n",
       "                              ['statement', 'timestamp'],\n",
       "       ['statement', 'authority', 'account', 'homePage'],\n",
       "                                     ['meta', 'session'],\n",
       "                                   ['meta', 'useragent'],\n",
       "                                          ['meta', 'ip']],\n",
       "      dtype='object')"
      ]
     },
     "execution_count": 59,
     "metadata": {},
     "output_type": "execute_result"
    }
   ],
   "source": [
    "Target_Pathways.str.split('.')"
   ]
  },
  {
   "cell_type": "markdown",
   "metadata": {},
   "source": [
    "### Select the last value of every list\n",
    "<hr>"
   ]
  },
  {
   "cell_type": "code",
   "execution_count": 41,
   "metadata": {},
   "outputs": [
    {
     "data": {
      "text/plain": [
       "Index(['mbox', 'raw', 'max', 'timestamp', 'homePage', 'session', 'useragent',\n",
       "       'ip'],\n",
       "      dtype='object')"
      ]
     },
     "execution_count": 41,
     "metadata": {},
     "output_type": "execute_result"
    }
   ],
   "source": [
    "# Add .str[-1] to select the last element\n",
    "Target_Pathways.str.split('.').str[-1]"
   ]
  },
  {
   "cell_type": "markdown",
   "metadata": {},
   "source": [
    "### Remove dtype index and dtype information\n",
    "<hr>"
   ]
  },
  {
   "cell_type": "code",
   "execution_count": 60,
   "metadata": {},
   "outputs": [
    {
     "data": {
      "text/plain": [
       "['mbox', 'raw', 'max', 'timestamp', 'homePage', 'session', 'useragent', 'ip']"
      ]
     },
     "execution_count": 60,
     "metadata": {},
     "output_type": "execute_result"
    }
   ],
   "source": [
    "# Add .to_list() to remove index and dtype information\n",
    "Target_Columns = Target_Pathways.str.split('.').str[-1].to_list()\n",
    "Target_Columns"
   ]
  },
  {
   "cell_type": "markdown",
   "metadata": {},
   "source": [
    "### Create a for loop to assign our data to a new dataframe\n",
    "<hr>"
   ]
  },
  {
   "cell_type": "markdown",
   "metadata": {},
   "source": [
    "Because Target_Pathways is a list of the full pathway from our `flatten_json` to `pd.DataFrame`, we can call the number to get each header.\n",
    "\n",
    "In this case 1 represents 'statement.result.score.raw'"
   ]
  },
  {
   "cell_type": "code",
   "execution_count": 61,
   "metadata": {},
   "outputs": [
    {
     "data": {
      "text/plain": [
       "0      45.407172\n",
       "1      16.452983\n",
       "2      92.515854\n",
       "3      11.469594\n",
       "4       0.775795\n",
       "         ...    \n",
       "995    37.372111\n",
       "996    52.315517\n",
       "997    58.033325\n",
       "998          NaN\n",
       "999    51.368381\n",
       "Name: statement.result.score.raw, Length: 1000, dtype: float64"
      ]
     },
     "execution_count": 61,
     "metadata": {},
     "output_type": "execute_result"
    }
   ],
   "source": [
    "df[Target_Pathways[1]]"
   ]
  },
  {
   "cell_type": "markdown",
   "metadata": {},
   "source": [
    "### Create an empty list\n",
    "<hr>"
   ]
  },
  {
   "cell_type": "code",
   "execution_count": null,
   "metadata": {},
   "outputs": [],
   "source": [
    "df_copy = []"
   ]
  },
  {
   "cell_type": "markdown",
   "metadata": {},
   "source": [
    "### Initialize a value for numeric incrementals\n",
    "<hr>"
   ]
  },
  {
   "cell_type": "code",
   "execution_count": 63,
   "metadata": {},
   "outputs": [],
   "source": [
    "i = 0"
   ]
  },
  {
   "cell_type": "markdown",
   "metadata": {},
   "source": [
    "### Convert the list to a pandas DataFrame\n",
    "<hr>"
   ]
  },
  {
   "cell_type": "code",
   "execution_count": 64,
   "metadata": {},
   "outputs": [],
   "source": [
    "df_copy = pd.DataFrame(df_copy)"
   ]
  },
  {
   "cell_type": "markdown",
   "metadata": {},
   "source": [
    "### Create a for loop to perform two tasks: \n",
    "- 1: Create a new column header and: \n",
    "- 2: Send a copy of the data in df to copy_df \n",
    "<hr>"
   ]
  },
  {
   "cell_type": "code",
   "execution_count": 65,
   "metadata": {},
   "outputs": [
    {
     "data": {
      "text/html": [
       "<div>\n",
       "<style scoped>\n",
       "    .dataframe tbody tr th:only-of-type {\n",
       "        vertical-align: middle;\n",
       "    }\n",
       "\n",
       "    .dataframe tbody tr th {\n",
       "        vertical-align: top;\n",
       "    }\n",
       "\n",
       "    .dataframe thead th {\n",
       "        text-align: right;\n",
       "    }\n",
       "</style>\n",
       "<table border=\"1\" class=\"dataframe\">\n",
       "  <thead>\n",
       "    <tr style=\"text-align: right;\">\n",
       "      <th></th>\n",
       "      <th>mbox</th>\n",
       "      <th>raw</th>\n",
       "      <th>max</th>\n",
       "      <th>timestamp</th>\n",
       "      <th>homePage</th>\n",
       "      <th>session</th>\n",
       "      <th>useragent</th>\n",
       "      <th>ip</th>\n",
       "    </tr>\n",
       "  </thead>\n",
       "  <tbody>\n",
       "    <tr>\n",
       "      <th>0</th>\n",
       "      <td>None</td>\n",
       "      <td>45.407172</td>\n",
       "      <td>NaN</td>\n",
       "      <td>2021-10-04T01:10:02</td>\n",
       "      <td>https://exYiscKArt.com</td>\n",
       "      <td>bW9byBC3NV</td>\n",
       "      <td>None</td>\n",
       "      <td>192.168.91.211</td>\n",
       "    </tr>\n",
       "    <tr>\n",
       "      <th>1</th>\n",
       "      <td>None</td>\n",
       "      <td>16.452983</td>\n",
       "      <td>87.611519</td>\n",
       "      <td>2022-10-23T11:48:55</td>\n",
       "      <td>https://05VJkFROri.com</td>\n",
       "      <td>None</td>\n",
       "      <td>None</td>\n",
       "      <td>192.168.82.234</td>\n",
       "    </tr>\n",
       "    <tr>\n",
       "      <th>2</th>\n",
       "      <td>None</td>\n",
       "      <td>92.515854</td>\n",
       "      <td>80.095236</td>\n",
       "      <td>2022-06-26T11:51:23</td>\n",
       "      <td>https://fB2xRd8NYH.com</td>\n",
       "      <td>None</td>\n",
       "      <td>Yc6q81bi0f</td>\n",
       "      <td>None</td>\n",
       "    </tr>\n",
       "    <tr>\n",
       "      <th>3</th>\n",
       "      <td>None</td>\n",
       "      <td>11.469594</td>\n",
       "      <td>NaN</td>\n",
       "      <td>2022-11-07T15:01:52</td>\n",
       "      <td>https://grJ5Jwwo1N.com</td>\n",
       "      <td>d4I8SubqOR</td>\n",
       "      <td>None</td>\n",
       "      <td>None</td>\n",
       "    </tr>\n",
       "    <tr>\n",
       "      <th>4</th>\n",
       "      <td>None</td>\n",
       "      <td>0.775795</td>\n",
       "      <td>25.639499</td>\n",
       "      <td>2021-01-30T02:15:21</td>\n",
       "      <td>https://qqXWVhZUeT.com</td>\n",
       "      <td>NWypH3szzl</td>\n",
       "      <td>None</td>\n",
       "      <td>None</td>\n",
       "    </tr>\n",
       "    <tr>\n",
       "      <th>...</th>\n",
       "      <td>...</td>\n",
       "      <td>...</td>\n",
       "      <td>...</td>\n",
       "      <td>...</td>\n",
       "      <td>...</td>\n",
       "      <td>...</td>\n",
       "      <td>...</td>\n",
       "      <td>...</td>\n",
       "    </tr>\n",
       "    <tr>\n",
       "      <th>995</th>\n",
       "      <td>None</td>\n",
       "      <td>37.372111</td>\n",
       "      <td>NaN</td>\n",
       "      <td>2022-07-25T11:29:52</td>\n",
       "      <td>https://BDzWWm6WPl.com</td>\n",
       "      <td>1yHjETSXM4</td>\n",
       "      <td>wWt6D3bf8W</td>\n",
       "      <td>192.168.174.124</td>\n",
       "    </tr>\n",
       "    <tr>\n",
       "      <th>996</th>\n",
       "      <td>None</td>\n",
       "      <td>52.315517</td>\n",
       "      <td>NaN</td>\n",
       "      <td>2021-08-03T12:57:21</td>\n",
       "      <td>https://6sZwnD2jAE.com</td>\n",
       "      <td>Ia1hGFXt0K</td>\n",
       "      <td>UhzGMCOSWl</td>\n",
       "      <td>None</td>\n",
       "    </tr>\n",
       "    <tr>\n",
       "      <th>997</th>\n",
       "      <td>None</td>\n",
       "      <td>58.033325</td>\n",
       "      <td>NaN</td>\n",
       "      <td>2022-11-22T03:33:03</td>\n",
       "      <td>https://Ssj3Hznc9u.com</td>\n",
       "      <td>None</td>\n",
       "      <td>None</td>\n",
       "      <td>192.168.157.67</td>\n",
       "    </tr>\n",
       "    <tr>\n",
       "      <th>998</th>\n",
       "      <td>None</td>\n",
       "      <td>NaN</td>\n",
       "      <td>69.737578</td>\n",
       "      <td>2021-05-03T13:52:28</td>\n",
       "      <td>https://NOoQ1DXawN.com</td>\n",
       "      <td>None</td>\n",
       "      <td>ywpnLvmtk6</td>\n",
       "      <td>192.168.232.104</td>\n",
       "    </tr>\n",
       "    <tr>\n",
       "      <th>999</th>\n",
       "      <td>None</td>\n",
       "      <td>51.368381</td>\n",
       "      <td>NaN</td>\n",
       "      <td>2023-11-29T14:42:33</td>\n",
       "      <td>https://XwPf9nOdhX.com</td>\n",
       "      <td>None</td>\n",
       "      <td>E09f9H4S70</td>\n",
       "      <td>192.168.168.37</td>\n",
       "    </tr>\n",
       "  </tbody>\n",
       "</table>\n",
       "<p>1000 rows × 8 columns</p>\n",
       "</div>"
      ],
      "text/plain": [
       "     mbox        raw        max            timestamp                homePage  \\\n",
       "0    None  45.407172        NaN  2021-10-04T01:10:02  https://exYiscKArt.com   \n",
       "1    None  16.452983  87.611519  2022-10-23T11:48:55  https://05VJkFROri.com   \n",
       "2    None  92.515854  80.095236  2022-06-26T11:51:23  https://fB2xRd8NYH.com   \n",
       "3    None  11.469594        NaN  2022-11-07T15:01:52  https://grJ5Jwwo1N.com   \n",
       "4    None   0.775795  25.639499  2021-01-30T02:15:21  https://qqXWVhZUeT.com   \n",
       "..    ...        ...        ...                  ...                     ...   \n",
       "995  None  37.372111        NaN  2022-07-25T11:29:52  https://BDzWWm6WPl.com   \n",
       "996  None  52.315517        NaN  2021-08-03T12:57:21  https://6sZwnD2jAE.com   \n",
       "997  None  58.033325        NaN  2022-11-22T03:33:03  https://Ssj3Hznc9u.com   \n",
       "998  None        NaN  69.737578  2021-05-03T13:52:28  https://NOoQ1DXawN.com   \n",
       "999  None  51.368381        NaN  2023-11-29T14:42:33  https://XwPf9nOdhX.com   \n",
       "\n",
       "        session   useragent               ip  \n",
       "0    bW9byBC3NV        None   192.168.91.211  \n",
       "1          None        None   192.168.82.234  \n",
       "2          None  Yc6q81bi0f             None  \n",
       "3    d4I8SubqOR        None             None  \n",
       "4    NWypH3szzl        None             None  \n",
       "..          ...         ...              ...  \n",
       "995  1yHjETSXM4  wWt6D3bf8W  192.168.174.124  \n",
       "996  Ia1hGFXt0K  UhzGMCOSWl             None  \n",
       "997        None        None   192.168.157.67  \n",
       "998        None  ywpnLvmtk6  192.168.232.104  \n",
       "999        None  E09f9H4S70   192.168.168.37  \n",
       "\n",
       "[1000 rows x 8 columns]"
      ]
     },
     "execution_count": 65,
     "metadata": {},
     "output_type": "execute_result"
    }
   ],
   "source": [
    "for x in Target_Columns:\n",
    "    df_copy[x] = df[Target_Pathways[i]]\n",
    "    i += 1\n",
    "df_copy"
   ]
  },
  {
   "cell_type": "markdown",
   "metadata": {},
   "source": [
    "### Finally, let us consider an alternative to <b><i>flattening</i></b> json, which is called <b><i>normalizing</i></b> json\n",
    "<hr>"
   ]
  },
  {
   "cell_type": "markdown",
   "metadata": {},
   "source": [
    "In Python, this can be performed with `normalize_json()`. Let us consider the following json dataset:"
   ]
  },
  {
   "cell_type": "code",
   "execution_count": 78,
   "metadata": {},
   "outputs": [
    {
     "name": "stdout",
     "output_type": "stream",
     "text": [
      "Here is the structure of our json file: \n",
      " └─  (array)\n",
      "   └─  (object)\n",
      "      ├─ \"state\" (string)\n",
      "      ├─ \"shortname\" (string)\n",
      "      ├─ \"info\" (object)\n",
      "      │  ├─ \"governor\" (string)\n",
      "      │  ├─ \"capital\" (string)\n",
      "      │  ├─ \"population\" (number)\n",
      "      │  └─ \"economy\" (object)\n",
      "      │     ├─ \"GDP\" (number)\n",
      "      │     └─ \"major_industries\" (array)\n",
      "      │        └─  (string)\n",
      "      ├─ \"major_cities\" (array)\n",
      "      │  └─  (object)\n",
      "      │     ├─ \"name\" (string)\n",
      "      │     └─ \"population\" (number)\n",
      "      └─ \"counties\" (array)\n",
      "         └─  (object)\n",
      "            ├─ \"name\" (string)\n",
      "            ├─ \"population\" (number)\n",
      "            ├─ \"major_city\" (string)\n",
      "            ├─ \"area\" (number)\n",
      "            └─ \"economy\" (object)\n",
      "               ├─ \"major_industries\" (array)\n",
      "               │  └─  (string)\n",
      "               └─ \"unemployment_rate\" (number)\n",
      "\n"
     ]
    }
   ],
   "source": [
    "data = [\n",
    "    {\n",
    "        \"state\": \"Florida\",\n",
    "        \"shortname\": \"FL\",\n",
    "        \"info\": {\n",
    "            \"governor\": \"Rick Scott\",\n",
    "            \"capital\": \"Tallahassee\",\n",
    "            \"population\": 21538187,\n",
    "            \"economy\": {\n",
    "                \"GDP\": 1196600000000,\n",
    "                \"major_industries\": [\"Tourism\", \"Agriculture\", \"Aerospace\"]\n",
    "            }\n",
    "        },\n",
    "        \"major_cities\": [\n",
    "            {\"name\": \"Miami\", \"population\": 467912},\n",
    "            {\"name\": \"Orlando\", \"population\": 285713}\n",
    "        ],\n",
    "        \"counties\": [\n",
    "            {\n",
    "                \"name\": \"Dade\",\n",
    "                \"population\": 12345,\n",
    "                \"major_city\": \"Miami\",\n",
    "                \"area\": 2497,\n",
    "                \"economy\": {\n",
    "                    \"major_industries\": [\"Tourism\", \"Finance\"],\n",
    "                    \"unemployment_rate\": 4.5\n",
    "                }\n",
    "            },\n",
    "            {\n",
    "                \"name\": \"Broward\",\n",
    "                \"population\": 40000,\n",
    "                \"major_city\": \"Fort Lauderdale\",\n",
    "                \"area\": 1323,\n",
    "                \"economy\": {\n",
    "                    \"major_industries\": [\"Healthcare\", \"Tourism\"],\n",
    "                    \"unemployment_rate\": 3.9\n",
    "                }\n",
    "            },\n",
    "            {\n",
    "                \"name\": \"Palm Beach\",\n",
    "                \"population\": 60000,\n",
    "                \"major_city\": \"West Palm Beach\",\n",
    "                \"area\": 2386,\n",
    "                \"economy\": {\n",
    "                    \"major_industries\": [\"Agriculture\", \"Tourism\"],\n",
    "                    \"unemployment_rate\": 4.2\n",
    "                }\n",
    "            }\n",
    "        ]\n",
    "    },\n",
    "    {\n",
    "        \"state\": \"Ohio\",\n",
    "        \"shortname\": \"OH\",\n",
    "        \"info\": {\n",
    "            \"governor\": \"John Kasich\",\n",
    "            \"capital\": \"Columbus\",\n",
    "            \"population\": 11799495,\n",
    "            \"economy\": {\n",
    "                \"GDP\": 727300000000,\n",
    "                \"major_industries\": [\"Manufacturing\", \"Healthcare\", \"Aerospace\"]\n",
    "            }\n",
    "        },\n",
    "        \"major_cities\": [\n",
    "            {\"name\": \"Columbus\", \"population\": 905748},\n",
    "            {\"name\": \"Cleveland\", \"population\": 372624}\n",
    "        ],\n",
    "        \"counties\": [\n",
    "            {\n",
    "                \"name\": \"Summit\",\n",
    "                \"population\": 1234,\n",
    "                \"major_city\": \"Akron\",\n",
    "                \"area\": 419,\n",
    "                \"economy\": {\n",
    "                    \"major_industries\": [\"Manufacturing\", \"Healthcare\"],\n",
    "                    \"unemployment_rate\": 5.1\n",
    "                }\n",
    "            },\n",
    "            {\n",
    "                \"name\": \"Cuyahoga\",\n",
    "                \"population\": 1337,\n",
    "                \"major_city\": \"Cleveland\",\n",
    "                \"area\": 457,\n",
    "                \"economy\": {\n",
    "                    \"major_industries\": [\"Healthcare\", \"Manufacturing\"],\n",
    "                    \"unemployment_rate\": 5.3\n",
    "                }\n",
    "            }\n",
    "        ]\n",
    "    }\n",
    "]\n",
    "print(f'Here is the structure of our json file: \\n {json2txttree(data)}')"
   ]
  },
  {
   "cell_type": "markdown",
   "metadata": {},
   "source": [
    "`pd.json_normalize()` extracts the certain information by querying the exact pathways of the json file. \n",
    "\n",
    "It takes 3 parameters which are `data`, which specifies the target json file, `record_path`: which specifies the path in each object to the list of records and `meta` which specifies which fields should be used as metadata for each record.\n",
    "<hr>"
   ]
  },
  {
   "cell_type": "markdown",
   "metadata": {},
   "source": [
    "Let's extract the following informaiton:\n",
    "-   `state`\n",
    "-   `shortname`\n",
    "-   `counties`\n",
    "-   `governor`\n",
    "-   `area`\n",
    "-   `unemployment_rate`"
   ]
  },
  {
   "cell_type": "code",
   "execution_count": null,
   "metadata": {},
   "outputs": [
    {
     "data": {
      "text/html": [
       "<div>\n",
       "<style scoped>\n",
       "    .dataframe tbody tr th:only-of-type {\n",
       "        vertical-align: middle;\n",
       "    }\n",
       "\n",
       "    .dataframe tbody tr th {\n",
       "        vertical-align: top;\n",
       "    }\n",
       "\n",
       "    .dataframe thead th {\n",
       "        text-align: right;\n",
       "    }\n",
       "</style>\n",
       "<table border=\"1\" class=\"dataframe\">\n",
       "  <thead>\n",
       "    <tr style=\"text-align: right;\">\n",
       "      <th></th>\n",
       "      <th>name</th>\n",
       "      <th>population</th>\n",
       "      <th>major_city</th>\n",
       "      <th>area</th>\n",
       "      <th>economy.major_industries</th>\n",
       "      <th>economy.unemployment_rate</th>\n",
       "      <th>meta_state</th>\n",
       "      <th>meta_shortname</th>\n",
       "      <th>meta_info.governor</th>\n",
       "    </tr>\n",
       "  </thead>\n",
       "  <tbody>\n",
       "    <tr>\n",
       "      <th>0</th>\n",
       "      <td>Dade</td>\n",
       "      <td>12345</td>\n",
       "      <td>Miami</td>\n",
       "      <td>2497</td>\n",
       "      <td>[Tourism, Finance]</td>\n",
       "      <td>4.5</td>\n",
       "      <td>Florida</td>\n",
       "      <td>FL</td>\n",
       "      <td>Rick Scott</td>\n",
       "    </tr>\n",
       "    <tr>\n",
       "      <th>1</th>\n",
       "      <td>Broward</td>\n",
       "      <td>40000</td>\n",
       "      <td>Fort Lauderdale</td>\n",
       "      <td>1323</td>\n",
       "      <td>[Healthcare, Tourism]</td>\n",
       "      <td>3.9</td>\n",
       "      <td>Florida</td>\n",
       "      <td>FL</td>\n",
       "      <td>Rick Scott</td>\n",
       "    </tr>\n",
       "    <tr>\n",
       "      <th>2</th>\n",
       "      <td>Palm Beach</td>\n",
       "      <td>60000</td>\n",
       "      <td>West Palm Beach</td>\n",
       "      <td>2386</td>\n",
       "      <td>[Agriculture, Tourism]</td>\n",
       "      <td>4.2</td>\n",
       "      <td>Florida</td>\n",
       "      <td>FL</td>\n",
       "      <td>Rick Scott</td>\n",
       "    </tr>\n",
       "    <tr>\n",
       "      <th>3</th>\n",
       "      <td>Summit</td>\n",
       "      <td>1234</td>\n",
       "      <td>Akron</td>\n",
       "      <td>419</td>\n",
       "      <td>[Manufacturing, Healthcare]</td>\n",
       "      <td>5.1</td>\n",
       "      <td>Ohio</td>\n",
       "      <td>OH</td>\n",
       "      <td>John Kasich</td>\n",
       "    </tr>\n",
       "    <tr>\n",
       "      <th>4</th>\n",
       "      <td>Cuyahoga</td>\n",
       "      <td>1337</td>\n",
       "      <td>Cleveland</td>\n",
       "      <td>457</td>\n",
       "      <td>[Healthcare, Manufacturing]</td>\n",
       "      <td>5.3</td>\n",
       "      <td>Ohio</td>\n",
       "      <td>OH</td>\n",
       "      <td>John Kasich</td>\n",
       "    </tr>\n",
       "  </tbody>\n",
       "</table>\n",
       "</div>"
      ],
      "text/plain": [
       "         name  population       major_city  area     economy.major_industries  \\\n",
       "0        Dade       12345            Miami  2497           [Tourism, Finance]   \n",
       "1     Broward       40000  Fort Lauderdale  1323        [Healthcare, Tourism]   \n",
       "2  Palm Beach       60000  West Palm Beach  2386       [Agriculture, Tourism]   \n",
       "3      Summit        1234            Akron   419  [Manufacturing, Healthcare]   \n",
       "4    Cuyahoga        1337        Cleveland   457  [Healthcare, Manufacturing]   \n",
       "\n",
       "   economy.unemployment_rate meta_state meta_shortname meta_info.governor  \n",
       "0                        4.5    Florida             FL         Rick Scott  \n",
       "1                        3.9    Florida             FL         Rick Scott  \n",
       "2                        4.2    Florida             FL         Rick Scott  \n",
       "3                        5.1       Ohio             OH        John Kasich  \n",
       "4                        5.3       Ohio             OH        John Kasich  "
      ]
     },
     "execution_count": 93,
     "metadata": {},
     "output_type": "execute_result"
    }
   ],
   "source": [
    "pd.json_normalize(\n",
    "    data,\n",
    "    record_path=['counties'],\n",
    "    meta=['state', 'shortname', ['info', 'governor']],\n",
    "    meta_prefix='meta_'\n",
    ")"
   ]
  },
  {
   "cell_type": "markdown",
   "metadata": {},
   "source": [
    "`record_path` is basically performing a `flatten` on everything within `countries` to get all of the paths:\n",
    "-  `countries.name`\n",
    "-  `countries.populaiton`\n",
    "-  `countries.major_city`\n",
    "-  `countries.area`\n",
    "-  `countries.economy`\n",
    "-  `countries.economy.major_industries`\n",
    "-  `countries.economy.unemployment_rate`"
   ]
  },
  {
   "cell_type": "markdown",
   "metadata": {},
   "source": [
    "`meta` selects everything at the same level or before the level of countries the first `[]` represents the first level. The `[[]]` can represent the second level.\n",
    "\n",
    "`['Level_1_Keys'['Level_1_Key', 'To_Level_2_Value(Which is the key to another value)']]`\n",
    "\n",
    "So `meta = [['info', 'governor']]` basically means the path `info.governor`"
   ]
  },
  {
   "cell_type": "markdown",
   "metadata": {},
   "source": [
    "This method is useful when you do not want to flatten everything at once (This gets messy with large databases with similar key and value names and long json pathways)."
   ]
  }
 ],
 "metadata": {
  "kernelspec": {
   "display_name": "Remote_Work_Env",
   "language": "python",
   "name": "python3"
  },
  "language_info": {
   "codemirror_mode": {
    "name": "ipython",
    "version": 3
   },
   "file_extension": ".py",
   "mimetype": "text/x-python",
   "name": "python",
   "nbconvert_exporter": "python",
   "pygments_lexer": "ipython3",
   "version": "3.10.16"
  }
 },
 "nbformat": 4,
 "nbformat_minor": 2
}
