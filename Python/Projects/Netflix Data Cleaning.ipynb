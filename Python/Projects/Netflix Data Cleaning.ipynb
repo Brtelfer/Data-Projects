{
 "cells": [
  {
   "cell_type": "markdown",
   "metadata": {},
   "source": [
    "# Netflix Titles Data Cleaning Project\n",
    "\n",
    "## Overview\n",
    "This project demonstrates data cleaning techniques using a dataset of Netflix titles (`netflix_titles.csv`). The goal is to preprocess the data by handling missing values, splitting columns, and extracting meaningful features for further analysis. This portfolio project showcases proficiency in Python, Pandas, and data wrangling.\n",
    "\n",
    "## Objectives\n",
    "- Identify and quantify missing data.\n",
    "- Handle missing values appropriately.\n",
    "- Transform and extract features from text-based columns.\n",
    "- Prepare the dataset for downstream analysis or visualization.\n",
    "\n",
    "## Tools Used\n",
    "- **Python Libraries**: Pandas, NumPy, SciPy, Seaborn, Regular Expressions (re)\n",
    "- **Dataset**: `netflix_titles.csv` (sourced locally)"
   ]
  },
  {
   "cell_type": "code",
   "execution_count": 2,
   "metadata": {},
   "outputs": [],
   "source": [
    "import pandas as pd\n",
    "import numpy as np\n",
    "import babel as bl\n",
    "import scipy as sp\n",
    "import seaborn as sns\n",
    "import re\n",
    "from scipy import stats\n",
    "from babel import numbers"
   ]
  },
  {
   "cell_type": "markdown",
   "metadata": {},
   "source": [
    "## Step 1: Load the Dataset\n",
    "We begin by loading the Netflix titles dataset from a CSV file and inspecting the first row to understand its structure."
   ]
  },
  {
   "cell_type": "code",
   "execution_count": 3,
   "metadata": {},
   "outputs": [
    {
     "data": {
      "text/html": [
       "<div>\n",
       "<style scoped>\n",
       "    .dataframe tbody tr th:only-of-type {\n",
       "        vertical-align: middle;\n",
       "    }\n",
       "\n",
       "    .dataframe tbody tr th {\n",
       "        vertical-align: top;\n",
       "    }\n",
       "\n",
       "    .dataframe thead th {\n",
       "        text-align: right;\n",
       "    }\n",
       "</style>\n",
       "<table border=\"1\" class=\"dataframe\">\n",
       "  <thead>\n",
       "    <tr style=\"text-align: right;\">\n",
       "      <th></th>\n",
       "      <th>show_id</th>\n",
       "      <th>type</th>\n",
       "      <th>title</th>\n",
       "      <th>director</th>\n",
       "      <th>cast</th>\n",
       "      <th>country</th>\n",
       "      <th>date_added</th>\n",
       "      <th>release_year</th>\n",
       "      <th>rating</th>\n",
       "      <th>duration</th>\n",
       "      <th>listed_in</th>\n",
       "      <th>description</th>\n",
       "    </tr>\n",
       "  </thead>\n",
       "  <tbody>\n",
       "    <tr>\n",
       "      <th>0</th>\n",
       "      <td>81145628</td>\n",
       "      <td>Movie</td>\n",
       "      <td>Norm of the North: King Sized Adventure</td>\n",
       "      <td>Richard Finn, Tim Maltby</td>\n",
       "      <td>Alan Marriott, Andrew Toth, Brian Dobson, Cole...</td>\n",
       "      <td>United States, India, South Korea, China</td>\n",
       "      <td>September 9, 2019</td>\n",
       "      <td>2019</td>\n",
       "      <td>TV-PG</td>\n",
       "      <td>90 min</td>\n",
       "      <td>Children &amp; Family Movies, Comedies</td>\n",
       "      <td>Before planning an awesome wedding for his gra...</td>\n",
       "    </tr>\n",
       "  </tbody>\n",
       "</table>\n",
       "</div>"
      ],
      "text/plain": [
       "    show_id   type                                    title  \\\n",
       "0  81145628  Movie  Norm of the North: King Sized Adventure   \n",
       "\n",
       "                   director  \\\n",
       "0  Richard Finn, Tim Maltby   \n",
       "\n",
       "                                                cast  \\\n",
       "0  Alan Marriott, Andrew Toth, Brian Dobson, Cole...   \n",
       "\n",
       "                                    country         date_added  release_year  \\\n",
       "0  United States, India, South Korea, China  September 9, 2019          2019   \n",
       "\n",
       "  rating duration                           listed_in  \\\n",
       "0  TV-PG   90 min  Children & Family Movies, Comedies   \n",
       "\n",
       "                                         description  \n",
       "0  Before planning an awesome wedding for his gra...  "
      ]
     },
     "execution_count": 3,
     "metadata": {},
     "output_type": "execute_result"
    }
   ],
   "source": [
    "df = pd.read_csv('/Users/brtelfer/Documents/Python_Data_Projects/*17_Data_Cleaning/netflix_titles.csv')\n",
    "df.head(1)"
   ]
  },
  {
   "cell_type": "markdown",
   "metadata": {},
   "source": [
    "## Step 2: Assess Missing Data\n",
    "To understand the quality of the dataset, we calculate the number of missing values in each column and sort them in descending order."
   ]
  },
  {
   "cell_type": "code",
   "execution_count": 4,
   "metadata": {},
   "outputs": [
    {
     "data": {
      "text/plain": [
       "director        1969\n",
       "cast             570\n",
       "country          476\n",
       "date_added        11\n",
       "rating            10\n",
       "show_id            0\n",
       "type               0\n",
       "title              0\n",
       "release_year       0\n",
       "duration           0\n",
       "listed_in          0\n",
       "description        0\n",
       "dtype: int64"
      ]
     },
     "execution_count": 4,
     "metadata": {},
     "output_type": "execute_result"
    }
   ],
   "source": [
    "df.isnull().sum().sort_values(ascending=False)"
   ]
  },
  {
   "cell_type": "markdown",
   "metadata": {},
   "source": [
    "### Calculate Missing Data as Percentages\n",
    "Next, we compute the percentage of missing values for each column to better assess their impact."
   ]
  },
  {
   "cell_type": "code",
   "execution_count": 5,
   "metadata": {},
   "outputs": [
    {
     "name": "stdout",
     "output_type": "stream",
     "text": [
      "show_id         0.000000\n",
      "type            0.000000\n",
      "title           0.000000\n",
      "director        0.315849\n",
      "cast            0.091434\n",
      "country         0.076355\n",
      "date_added      0.001765\n",
      "release_year    0.000000\n",
      "rating          0.001604\n",
      "duration        0.000000\n",
      "listed_in       0.000000\n",
      "description     0.000000\n",
      "dtype: float64\n"
     ]
    }
   ],
   "source": [
    "col_lst = [df.columns.to_list()]\n",
    "results = []\n",
    "for column in col_lst:\n",
    "    results.append(df[column].isnull().mean())\n",
    "print(results[0])"
   ]
  },
  {
   "cell_type": "code",
   "execution_count": 6,
   "metadata": {},
   "outputs": [
    {
     "data": {
      "text/plain": [
       "[show_id          0.00\n",
       " type             0.00\n",
       " title            0.00\n",
       " director        31.58\n",
       " cast             9.14\n",
       " country          7.64\n",
       " date_added       0.18\n",
       " release_year     0.00\n",
       " rating           0.16\n",
       " duration         0.00\n",
       " listed_in        0.00\n",
       " description      0.00\n",
       " dtype: float64]"
      ]
     },
     "execution_count": 6,
     "metadata": {},
     "output_type": "execute_result"
    }
   ],
   "source": [
    "results = [round(i * 100, 2) for i in results]\n",
    "results"
   ]
  },
  {
   "cell_type": "markdown",
   "metadata": {},
   "source": [
    "## Step 3: Handle Missing Directors\n",
    "The `director` column has a significant amount of missing data (approximately 31.58%). We explore options to handle this, such as dropping rows with missing directors."
   ]
  },
  {
   "cell_type": "code",
   "execution_count": 7,
   "metadata": {},
   "outputs": [
    {
     "data": {
      "text/plain": [
       "0       False\n",
       "1        True\n",
       "2        True\n",
       "3        True\n",
       "4       False\n",
       "        ...  \n",
       "6229     True\n",
       "6230     True\n",
       "6231     True\n",
       "6232     True\n",
       "6233     True\n",
       "Name: director, Length: 6234, dtype: bool"
      ]
     },
     "execution_count": 7,
     "metadata": {},
     "output_type": "execute_result"
    }
   ],
   "source": [
    "df['director'].isnull()"
   ]
  },
  {
   "cell_type": "code",
   "execution_count": 8,
   "metadata": {},
   "outputs": [
    {
     "data": {
      "text/html": [
       "<div>\n",
       "<style scoped>\n",
       "    .dataframe tbody tr th:only-of-type {\n",
       "        vertical-align: middle;\n",
       "    }\n",
       "\n",
       "    .dataframe tbody tr th {\n",
       "        vertical-align: top;\n",
       "    }\n",
       "\n",
       "    .dataframe thead th {\n",
       "        text-align: right;\n",
       "    }\n",
       "</style>\n",
       "<table border=\"1\" class=\"dataframe\">\n",
       "  <thead>\n",
       "    <tr style=\"text-align: right;\">\n",
       "      <th></th>\n",
       "      <th>show_id</th>\n",
       "      <th>type</th>\n",
       "      <th>title</th>\n",
       "      <th>director</th>\n",
       "      <th>cast</th>\n",
       "      <th>country</th>\n",
       "      <th>date_added</th>\n",
       "      <th>release_year</th>\n",
       "      <th>rating</th>\n",
       "      <th>duration</th>\n",
       "      <th>listed_in</th>\n",
       "      <th>description</th>\n",
       "    </tr>\n",
       "  </thead>\n",
       "  <tbody>\n",
       "    <tr>\n",
       "      <th>0</th>\n",
       "      <td>81145628</td>\n",
       "      <td>Movie</td>\n",
       "      <td>Norm of the North: King Sized Adventure</td>\n",
       "      <td>Richard Finn, Tim Maltby</td>\n",
       "      <td>Alan Marriott, Andrew Toth, Brian Dobson, Cole...</td>\n",
       "      <td>United States, India, South Korea, China</td>\n",
       "      <td>September 9, 2019</td>\n",
       "      <td>2019</td>\n",
       "      <td>TV-PG</td>\n",
       "      <td>90 min</td>\n",
       "      <td>Children &amp; Family Movies, Comedies</td>\n",
       "      <td>Before planning an awesome wedding for his gra...</td>\n",
       "    </tr>\n",
       "    <tr>\n",
       "      <th>4</th>\n",
       "      <td>80125979</td>\n",
       "      <td>Movie</td>\n",
       "      <td>#realityhigh</td>\n",
       "      <td>Fernando Lebrija</td>\n",
       "      <td>Nesta Cooper, Kate Walsh, John Michael Higgins...</td>\n",
       "      <td>United States</td>\n",
       "      <td>September 8, 2017</td>\n",
       "      <td>2017</td>\n",
       "      <td>TV-14</td>\n",
       "      <td>99 min</td>\n",
       "      <td>Comedies</td>\n",
       "      <td>When nerdy high schooler Dani finally attracts...</td>\n",
       "    </tr>\n",
       "    <tr>\n",
       "      <th>6</th>\n",
       "      <td>70304989</td>\n",
       "      <td>Movie</td>\n",
       "      <td>Automata</td>\n",
       "      <td>Gabe Ibáñez</td>\n",
       "      <td>Antonio Banderas, Dylan McDermott, Melanie Gri...</td>\n",
       "      <td>Bulgaria, United States, Spain, Canada</td>\n",
       "      <td>September 8, 2017</td>\n",
       "      <td>2014</td>\n",
       "      <td>R</td>\n",
       "      <td>110 min</td>\n",
       "      <td>International Movies, Sci-Fi &amp; Fantasy, Thrillers</td>\n",
       "      <td>In a dystopian future, an insurance adjuster f...</td>\n",
       "    </tr>\n",
       "    <tr>\n",
       "      <th>7</th>\n",
       "      <td>80164077</td>\n",
       "      <td>Movie</td>\n",
       "      <td>Fabrizio Copano: Solo pienso en mi</td>\n",
       "      <td>Rodrigo Toro, Francisco Schultz</td>\n",
       "      <td>Fabrizio Copano</td>\n",
       "      <td>Chile</td>\n",
       "      <td>September 8, 2017</td>\n",
       "      <td>2017</td>\n",
       "      <td>TV-MA</td>\n",
       "      <td>60 min</td>\n",
       "      <td>Stand-Up Comedy</td>\n",
       "      <td>Fabrizio Copano takes audience participation t...</td>\n",
       "    </tr>\n",
       "    <tr>\n",
       "      <th>9</th>\n",
       "      <td>70304990</td>\n",
       "      <td>Movie</td>\n",
       "      <td>Good People</td>\n",
       "      <td>Henrik Ruben Genz</td>\n",
       "      <td>James Franco, Kate Hudson, Tom Wilkinson, Omar...</td>\n",
       "      <td>United States, United Kingdom, Denmark, Sweden</td>\n",
       "      <td>September 8, 2017</td>\n",
       "      <td>2014</td>\n",
       "      <td>R</td>\n",
       "      <td>90 min</td>\n",
       "      <td>Action &amp; Adventure, Thrillers</td>\n",
       "      <td>A struggling couple can't believe their luck w...</td>\n",
       "    </tr>\n",
       "    <tr>\n",
       "      <th>...</th>\n",
       "      <td>...</td>\n",
       "      <td>...</td>\n",
       "      <td>...</td>\n",
       "      <td>...</td>\n",
       "      <td>...</td>\n",
       "      <td>...</td>\n",
       "      <td>...</td>\n",
       "      <td>...</td>\n",
       "      <td>...</td>\n",
       "      <td>...</td>\n",
       "      <td>...</td>\n",
       "      <td>...</td>\n",
       "    </tr>\n",
       "    <tr>\n",
       "      <th>6142</th>\n",
       "      <td>80063224</td>\n",
       "      <td>TV Show</td>\n",
       "      <td>The Great British Baking Show</td>\n",
       "      <td>Andy Devonshire</td>\n",
       "      <td>Mel Giedroyc, Sue Perkins, Mary Berry, Paul Ho...</td>\n",
       "      <td>United Kingdom</td>\n",
       "      <td>August 30, 2019</td>\n",
       "      <td>2019</td>\n",
       "      <td>TV-PG</td>\n",
       "      <td>7 Seasons</td>\n",
       "      <td>British TV Shows, Reality TV</td>\n",
       "      <td>A talented batch of amateur bakers face off in...</td>\n",
       "    </tr>\n",
       "    <tr>\n",
       "      <th>6158</th>\n",
       "      <td>80164216</td>\n",
       "      <td>TV Show</td>\n",
       "      <td>Miraculous: Tales of Ladybug &amp; Cat Noir</td>\n",
       "      <td>Thomas Astruc</td>\n",
       "      <td>Cristina Vee, Bryce Papenbrook, Keith Silverst...</td>\n",
       "      <td>France, South Korea, Japan</td>\n",
       "      <td>August 2, 2019</td>\n",
       "      <td>2018</td>\n",
       "      <td>TV-Y7</td>\n",
       "      <td>4 Seasons</td>\n",
       "      <td>Kids' TV, TV Action &amp; Adventure</td>\n",
       "      <td>When Paris is in peril, Marinette becomes Lady...</td>\n",
       "    </tr>\n",
       "    <tr>\n",
       "      <th>6167</th>\n",
       "      <td>80115328</td>\n",
       "      <td>TV Show</td>\n",
       "      <td>Sacred Games</td>\n",
       "      <td>Vikramaditya Motwane, Anurag Kashyap</td>\n",
       "      <td>Saif Ali Khan, Nawazuddin Siddiqui, Radhika Ap...</td>\n",
       "      <td>India, United States</td>\n",
       "      <td>August 15, 2019</td>\n",
       "      <td>2019</td>\n",
       "      <td>TV-MA</td>\n",
       "      <td>2 Seasons</td>\n",
       "      <td>Crime TV Shows, International TV Shows, TV Dramas</td>\n",
       "      <td>A link in their pasts leads an honest cop to a...</td>\n",
       "    </tr>\n",
       "    <tr>\n",
       "      <th>6182</th>\n",
       "      <td>80176842</td>\n",
       "      <td>TV Show</td>\n",
       "      <td>Men on a Mission</td>\n",
       "      <td>Jung-ah Im</td>\n",
       "      <td>Ho-dong Kang, Soo-geun Lee, Sang-min Lee, Youn...</td>\n",
       "      <td>South Korea</td>\n",
       "      <td>April 9, 2019</td>\n",
       "      <td>2019</td>\n",
       "      <td>TV-14</td>\n",
       "      <td>4 Seasons</td>\n",
       "      <td>International TV Shows, Korean TV Shows, Stand...</td>\n",
       "      <td>Male celebs play make-believe as high schooler...</td>\n",
       "    </tr>\n",
       "    <tr>\n",
       "      <th>6213</th>\n",
       "      <td>80126599</td>\n",
       "      <td>TV Show</td>\n",
       "      <td>Leyla and Mecnun</td>\n",
       "      <td>Onur Ünlü</td>\n",
       "      <td>Ali Atay, Melis Birkan, Serkan Keskin, Ahmet M...</td>\n",
       "      <td>Turkey</td>\n",
       "      <td>April 15, 2017</td>\n",
       "      <td>2014</td>\n",
       "      <td>TV-PG</td>\n",
       "      <td>3 Seasons</td>\n",
       "      <td>International TV Shows, Romantic TV Shows, TV ...</td>\n",
       "      <td>Destiny brings Mecnun and Leyla together as ne...</td>\n",
       "    </tr>\n",
       "  </tbody>\n",
       "</table>\n",
       "<p>4265 rows × 12 columns</p>\n",
       "</div>"
      ],
      "text/plain": [
       "       show_id     type                                    title  \\\n",
       "0     81145628    Movie  Norm of the North: King Sized Adventure   \n",
       "4     80125979    Movie                             #realityhigh   \n",
       "6     70304989    Movie                                 Automata   \n",
       "7     80164077    Movie       Fabrizio Copano: Solo pienso en mi   \n",
       "9     70304990    Movie                              Good People   \n",
       "...        ...      ...                                      ...   \n",
       "6142  80063224  TV Show            The Great British Baking Show   \n",
       "6158  80164216  TV Show  Miraculous: Tales of Ladybug & Cat Noir   \n",
       "6167  80115328  TV Show                             Sacred Games   \n",
       "6182  80176842  TV Show                         Men on a Mission   \n",
       "6213  80126599  TV Show                         Leyla and Mecnun   \n",
       "\n",
       "                                  director  \\\n",
       "0                 Richard Finn, Tim Maltby   \n",
       "4                         Fernando Lebrija   \n",
       "6                              Gabe Ibáñez   \n",
       "7          Rodrigo Toro, Francisco Schultz   \n",
       "9                        Henrik Ruben Genz   \n",
       "...                                    ...   \n",
       "6142                       Andy Devonshire   \n",
       "6158                         Thomas Astruc   \n",
       "6167  Vikramaditya Motwane, Anurag Kashyap   \n",
       "6182                            Jung-ah Im   \n",
       "6213                             Onur Ünlü   \n",
       "\n",
       "                                                   cast  \\\n",
       "0     Alan Marriott, Andrew Toth, Brian Dobson, Cole...   \n",
       "4     Nesta Cooper, Kate Walsh, John Michael Higgins...   \n",
       "6     Antonio Banderas, Dylan McDermott, Melanie Gri...   \n",
       "7                                       Fabrizio Copano   \n",
       "9     James Franco, Kate Hudson, Tom Wilkinson, Omar...   \n",
       "...                                                 ...   \n",
       "6142  Mel Giedroyc, Sue Perkins, Mary Berry, Paul Ho...   \n",
       "6158  Cristina Vee, Bryce Papenbrook, Keith Silverst...   \n",
       "6167  Saif Ali Khan, Nawazuddin Siddiqui, Radhika Ap...   \n",
       "6182  Ho-dong Kang, Soo-geun Lee, Sang-min Lee, Youn...   \n",
       "6213  Ali Atay, Melis Birkan, Serkan Keskin, Ahmet M...   \n",
       "\n",
       "                                             country         date_added  \\\n",
       "0           United States, India, South Korea, China  September 9, 2019   \n",
       "4                                      United States  September 8, 2017   \n",
       "6             Bulgaria, United States, Spain, Canada  September 8, 2017   \n",
       "7                                              Chile  September 8, 2017   \n",
       "9     United States, United Kingdom, Denmark, Sweden  September 8, 2017   \n",
       "...                                              ...                ...   \n",
       "6142                                  United Kingdom    August 30, 2019   \n",
       "6158                      France, South Korea, Japan     August 2, 2019   \n",
       "6167                            India, United States    August 15, 2019   \n",
       "6182                                     South Korea      April 9, 2019   \n",
       "6213                                          Turkey     April 15, 2017   \n",
       "\n",
       "      release_year rating   duration  \\\n",
       "0             2019  TV-PG     90 min   \n",
       "4             2017  TV-14     99 min   \n",
       "6             2014      R    110 min   \n",
       "7             2017  TV-MA     60 min   \n",
       "9             2014      R     90 min   \n",
       "...            ...    ...        ...   \n",
       "6142          2019  TV-PG  7 Seasons   \n",
       "6158          2018  TV-Y7  4 Seasons   \n",
       "6167          2019  TV-MA  2 Seasons   \n",
       "6182          2019  TV-14  4 Seasons   \n",
       "6213          2014  TV-PG  3 Seasons   \n",
       "\n",
       "                                              listed_in  \\\n",
       "0                    Children & Family Movies, Comedies   \n",
       "4                                              Comedies   \n",
       "6     International Movies, Sci-Fi & Fantasy, Thrillers   \n",
       "7                                       Stand-Up Comedy   \n",
       "9                         Action & Adventure, Thrillers   \n",
       "...                                                 ...   \n",
       "6142                       British TV Shows, Reality TV   \n",
       "6158                    Kids' TV, TV Action & Adventure   \n",
       "6167  Crime TV Shows, International TV Shows, TV Dramas   \n",
       "6182  International TV Shows, Korean TV Shows, Stand...   \n",
       "6213  International TV Shows, Romantic TV Shows, TV ...   \n",
       "\n",
       "                                            description  \n",
       "0     Before planning an awesome wedding for his gra...  \n",
       "4     When nerdy high schooler Dani finally attracts...  \n",
       "6     In a dystopian future, an insurance adjuster f...  \n",
       "7     Fabrizio Copano takes audience participation t...  \n",
       "9     A struggling couple can't believe their luck w...  \n",
       "...                                                 ...  \n",
       "6142  A talented batch of amateur bakers face off in...  \n",
       "6158  When Paris is in peril, Marinette becomes Lady...  \n",
       "6167  A link in their pasts leads an honest cop to a...  \n",
       "6182  Male celebs play make-believe as high schooler...  \n",
       "6213  Destiny brings Mecnun and Leyla together as ne...  \n",
       "\n",
       "[4265 rows x 12 columns]"
      ]
     },
     "execution_count": 8,
     "metadata": {},
     "output_type": "execute_result"
    }
   ],
   "source": [
    "# Drop rows where 'director' is missing\n",
    "no_director = df[df['director'].isnull()].index\n",
    "df.drop(no_director, axis=0).isnull().sum()\n",
    "df[~(df['director'].isnull())]  # Alternative method\n",
    "df.dropna(subset=['director'])  # Preferred method"
   ]
  },
  {
   "cell_type": "markdown",
   "metadata": {},
   "source": [
    "## Step 4: Impute Missing Ratings\n",
    "For columns with fewer missing values, like `rating`, we impute missing entries with the most frequent (mode) value."
   ]
  },
  {
   "cell_type": "code",
   "execution_count": 9,
   "metadata": {},
   "outputs": [
    {
     "data": {
      "text/html": [
       "<div>\n",
       "<style scoped>\n",
       "    .dataframe tbody tr th:only-of-type {\n",
       "        vertical-align: middle;\n",
       "    }\n",
       "\n",
       "    .dataframe tbody tr th {\n",
       "        vertical-align: top;\n",
       "    }\n",
       "\n",
       "    .dataframe thead th {\n",
       "        text-align: right;\n",
       "    }\n",
       "</style>\n",
       "<table border=\"1\" class=\"dataframe\">\n",
       "  <thead>\n",
       "    <tr style=\"text-align: right;\">\n",
       "      <th></th>\n",
       "      <th>show_id</th>\n",
       "      <th>type</th>\n",
       "      <th>title</th>\n",
       "      <th>director</th>\n",
       "      <th>cast</th>\n",
       "      <th>country</th>\n",
       "      <th>date_added</th>\n",
       "      <th>release_year</th>\n",
       "      <th>rating</th>\n",
       "      <th>duration</th>\n",
       "      <th>listed_in</th>\n",
       "      <th>description</th>\n",
       "    </tr>\n",
       "  </thead>\n",
       "  <tbody>\n",
       "    <tr>\n",
       "      <th>0</th>\n",
       "      <td>81145628</td>\n",
       "      <td>Movie</td>\n",
       "      <td>Norm of the North: King Sized Adventure</td>\n",
       "      <td>Richard Finn, Tim Maltby</td>\n",
       "      <td>Alan Marriott, Andrew Toth, Brian Dobson, Cole...</td>\n",
       "      <td>United States, India, South Korea, China</td>\n",
       "      <td>September 9, 2019</td>\n",
       "      <td>2019</td>\n",
       "      <td>TV-PG</td>\n",
       "      <td>90 min</td>\n",
       "      <td>Children &amp; Family Movies, Comedies</td>\n",
       "      <td>Before planning an awesome wedding for his gra...</td>\n",
       "    </tr>\n",
       "    <tr>\n",
       "      <th>1</th>\n",
       "      <td>80117401</td>\n",
       "      <td>Movie</td>\n",
       "      <td>Jandino: Whatever it Takes</td>\n",
       "      <td>NaN</td>\n",
       "      <td>Jandino Asporaat</td>\n",
       "      <td>United Kingdom</td>\n",
       "      <td>September 9, 2016</td>\n",
       "      <td>2016</td>\n",
       "      <td>TV-MA</td>\n",
       "      <td>94 min</td>\n",
       "      <td>Stand-Up Comedy</td>\n",
       "      <td>Jandino Asporaat riffs on the challenges of ra...</td>\n",
       "    </tr>\n",
       "    <tr>\n",
       "      <th>2</th>\n",
       "      <td>70234439</td>\n",
       "      <td>TV Show</td>\n",
       "      <td>Transformers Prime</td>\n",
       "      <td>NaN</td>\n",
       "      <td>Peter Cullen, Sumalee Montano, Frank Welker, J...</td>\n",
       "      <td>United States</td>\n",
       "      <td>September 8, 2018</td>\n",
       "      <td>2013</td>\n",
       "      <td>TV-Y7-FV</td>\n",
       "      <td>1 Season</td>\n",
       "      <td>Kids' TV</td>\n",
       "      <td>With the help of three human allies, the Autob...</td>\n",
       "    </tr>\n",
       "  </tbody>\n",
       "</table>\n",
       "</div>"
      ],
      "text/plain": [
       "    show_id     type                                    title  \\\n",
       "0  81145628    Movie  Norm of the North: King Sized Adventure   \n",
       "1  80117401    Movie               Jandino: Whatever it Takes   \n",
       "2  70234439  TV Show                       Transformers Prime   \n",
       "\n",
       "                   director  \\\n",
       "0  Richard Finn, Tim Maltby   \n",
       "1                       NaN   \n",
       "2                       NaN   \n",
       "\n",
       "                                                cast  \\\n",
       "0  Alan Marriott, Andrew Toth, Brian Dobson, Cole...   \n",
       "1                                   Jandino Asporaat   \n",
       "2  Peter Cullen, Sumalee Montano, Frank Welker, J...   \n",
       "\n",
       "                                    country         date_added  release_year  \\\n",
       "0  United States, India, South Korea, China  September 9, 2019          2019   \n",
       "1                            United Kingdom  September 9, 2016          2016   \n",
       "2                             United States  September 8, 2018          2013   \n",
       "\n",
       "     rating  duration                           listed_in  \\\n",
       "0     TV-PG    90 min  Children & Family Movies, Comedies   \n",
       "1     TV-MA    94 min                     Stand-Up Comedy   \n",
       "2  TV-Y7-FV  1 Season                            Kids' TV   \n",
       "\n",
       "                                         description  \n",
       "0  Before planning an awesome wedding for his gra...  \n",
       "1  Jandino Asporaat riffs on the challenges of ra...  \n",
       "2  With the help of three human allies, the Autob...  "
      ]
     },
     "execution_count": 9,
     "metadata": {},
     "output_type": "execute_result"
    }
   ],
   "source": [
    "df.fillna({'rating': ''.join(df['rating'].mode())}).head(3)"
   ]
  },
  {
   "cell_type": "markdown",
   "metadata": {},
   "source": [
    "## Step 5: Split Duration Column\n",
    "The `duration` column contains both numeric values and units (e.g., '90 min' or '1 Season'). We split it into two columns: `duration num` (numeric) and `duration type` (unit)."
   ]
  },
  {
   "cell_type": "code",
   "execution_count": 10,
   "metadata": {},
   "outputs": [],
   "source": [
    "df['duration num'] = df['duration'].str.split(' ').str[0]\n",
    "df['duration type'] = df['duration'].str.split(' ').str[1]"
   ]
  },
  {
   "cell_type": "markdown",
   "metadata": {},
   "source": [
    "### Extract Numeric Duration for Movies\n",
    "For movies specifically, we extract the numeric portion of `duration` and convert it to an integer."
   ]
  },
  {
   "cell_type": "code",
   "execution_count": 11,
   "metadata": {},
   "outputs": [
    {
     "data": {
      "text/plain": [
       "0        90\n",
       "1        94\n",
       "4        99\n",
       "6       110\n",
       "7        60\n",
       "       ... \n",
       "5577     70\n",
       "5578    102\n",
       "5579     88\n",
       "5580    109\n",
       "6231     60\n",
       "Name: duration, Length: 4265, dtype: int64"
      ]
     },
     "execution_count": 11,
     "metadata": {},
     "output_type": "execute_result"
    }
   ],
   "source": [
    "df[df['type'] == 'Movie']['duration'].str.split().str[0].astype(int)"
   ]
  },
  {
   "cell_type": "markdown",
   "metadata": {},
   "source": [
    "## Step 6: Parse Date Added\n",
    "The `date_added` column (e.g., 'September 9, 2019') is split into separate `year`, `month`, and `day` columns using regular expressions."
   ]
  },
  {
   "cell_type": "code",
   "execution_count": 12,
   "metadata": {},
   "outputs": [],
   "source": [
    "df['year'] = df['date_added'].str.extract('(\\d{4})')\n",
    "df['month'] = df['date_added'].str.extract('(\\w+) ')\n",
    "df['day'] = df['date_added'].str.extract(' (\\d{2}|\\d),')"
   ]
  },
  {
   "cell_type": "code",
   "execution_count": 13,
   "metadata": {},
   "outputs": [
    {
     "data": {
      "text/plain": [
       "0       September 9, 2019\n",
       "1       September 9, 2016\n",
       "2       September 8, 2018\n",
       "3       September 8, 2018\n",
       "4       September 8, 2017\n",
       "              ...        \n",
       "6229                  NaN\n",
       "6230                  NaN\n",
       "6231                  NaN\n",
       "6232                  NaN\n",
       "6233                  NaN\n",
       "Name: date_added, Length: 6234, dtype: object"
      ]
     },
     "execution_count": 13,
     "metadata": {},
     "output_type": "execute_result"
    }
   ],
   "source": [
    "df.date_added"
   ]
  },
  {
   "cell_type": "markdown",
   "metadata": {},
   "source": [
    "### Alternative Date Parsing\n",
    "As an alternative approach, we test parsing dates into months using `pd.to_datetime` on a smaller sample dataset."
   ]
  },
  {
   "cell_type": "code",
   "execution_count": 14,
   "metadata": {},
   "outputs": [
    {
     "data": {
      "text/plain": [
       "0     9\n",
       "1    10\n",
       "2    11\n",
       "Name: date_added, dtype: int32"
      ]
     },
     "execution_count": 14,
     "metadata": {},
     "output_type": "execute_result"
    }
   ],
   "source": [
    "data = {'date_added': [\"September 9, 2018\", \"October 10, 2019\", \"November 11, 2020\"]}\n",
    "df = pd.DataFrame(data)\n",
    "df['date_added'].str.extract('\\s(\\d{2}|\\d),')  # Extract day\n",
    "pd.to_datetime(df['date_added'].str.strip()).dt.month  # Extract month"
   ]
  },
  {
   "cell_type": "markdown",
   "metadata": {},
   "source": [
    "## Conclusion\n",
    "This project successfully cleaned the Netflix titles dataset by:\n",
    "- Quantifying and addressing missing data.\n",
    "- Imputing missing ratings with the mode.\n",
    "- Splitting the `duration` column into numeric and type components.\n",
    "- Parsing the `date_added` column into year, month, and day.\n",
    "\n",
    "The cleaned dataset is now ready for exploratory data analysis, visualization, or modeling. Future steps could include analyzing trends in movie durations or release patterns over time."
   ]
  }
 ],
 "metadata": {
  "kernelspec": {
   "display_name": "Remote_Work_Env",
   "language": "python",
   "name": "python3"
  },
  "language_info": {
   "codemirror_mode": {
    "name": "ipython",
    "version": 3
   },
   "file_extension": ".py",
   "mimetype": "text/x-python",
   "name": "python",
   "nbconvert_exporter": "python",
   "pygments_lexer": "ipython3",
   "version": "3.10.16"
  }
 },
 "nbformat": 4,
 "nbformat_minor": 2
}
