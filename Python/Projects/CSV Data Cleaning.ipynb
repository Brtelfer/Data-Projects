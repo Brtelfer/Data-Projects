{
 "cells": [
  {
   "cell_type": "markdown",
   "metadata": {},
   "source": [
    "# Netflix Content Analysis Portfolio Project\n",
    "**Author:** [Your Name]  \n",
    "**Date:** [Today's Date]\n",
    "\n",
    "## Project Overview\n",
    "This analysis explores Netflix's content catalog to understand:\n",
    "- Content distribution between Movies and TV Shows\n",
    "- Missing data patterns\n",
    "- Temporal trends in content additions\n",
    "- Relationships between content ratings and durations\n",
    "\n",
    "Data Source: [Netflix Movies and TV Shows Dataset](https://www.kaggle.com/datasets/shivamb/netflix-shows)"
   ]
  },
  {
   "cell_type": "markdown",
   "metadata": {},
   "source": [
    "## 1. Data Loading & Initial Inspection"
   ]
  },
  {
   "cell_type": "code",
   "execution_count": 3,
   "metadata": {},
   "outputs": [],
   "source": [
    "# Import core data analysis libraries\n",
    "import pandas as pd\n",
    "import numpy as np\n",
    "import seaborn as sns\n",
    "import matplotlib.pyplot as plt\n",
    "from datetime import datetime\n",
    "\n",
    "# Configure visualization settings\n",
    "sns.set(style='whitegrid', palette='pastel')\n",
    "%matplotlib inline"
   ]
  },
  {
   "cell_type": "code",
   "execution_count": 8,
   "metadata": {},
   "outputs": [ ... ],
   "source": [
    "# Load dataset and show sample\n",
    "netflix_df = pd.read_csv('../data/netflix_titles.csv')\n",
    "print(f\"Dataset Dimensions: {netflix_df.shape}\")\n",
    "netflix_df.head(3)"
   ]
  },
  {
   "cell_type": "markdown",
   "metadata": {},
   "source": [
    "## 2. Data Quality Assessment\n",
    "### Missing Values Analysis"
   ]
  },
  {
   "cell_type": "code",
   "execution_count": 9,
   "metadata": {},
   "outputs": [ ... ],
   "source": [
    "# Calculate missing value percentages\n",
    "missing_data = netflix_df.isnull().mean().sort_values(ascending=False)\n",
    "missing_data = (missing_data[missing_data > 0] * 100).round(2)\n",
    "\n",
    "# Visualize missing data\n",
    "plt.figure(figsize=(10, 5))\n",
    "sns.barplot(x=missing_data.values, y=missing_data.index, palette='viridis')\n",
    "plt.title('Percentage of Missing Values by Column')\n",
    "plt.xlabel('Percentage Missing (%)')\n",
    "plt.ylabel('Columns')\n",
    "plt.show();"
   ]
  },
  {
   "cell_type": "markdown",
   "metadata": {},
   "source": [
    "**Key Observations:**\n",
    "- Director information is missing for 31.58% of entries\n",
    "- About 9% of cast information is missing\n",
    "- Country data is absent for 7.6% of records\n",
    "\n",
    "**Action Plan:**\n",
    "- Director column will be dropped due to high missingness\n",
    "- Cast and country missing values will be imputed with 'Unknown'"
   ]
  },
  {
   "cell_type": "markdown",
   "metadata": {},
   "source": [
    "## 3. Data Cleaning & Transformation"
   ]
  },
  {
   "cell_type": "code",
   "execution_count": 13,
   "metadata": {},
   "outputs": [ ... ],
   "source": [
    "# Handle missing values\n",
    "netflix_clean = netflix_df.drop(columns='director')\n",
    "netflix_clean['cast'] = netflix_clean['cast'].fillna('Unknown')\n",
    "netflix_clean['country'] = netflix_clean['country'].fillna('Unknown')\n",
    "\n",
    "# Convert date_added to datetime format\n",
    "netflix_clean['date_added'] = pd.to_datetime(netflix_clean['date_added'])\n",
    "\n",
    "# Extract temporal features\n",
    "netflix_clean['added_year'] = netflix_clean['date_added'].dt.year\n",
    "netflix_clean['added_month'] = netflix_clean['date_added'].dt.month_name()\n",
    "netflix_clean['added_day'] = netflix_clean['date_added'].dt.day\n",
    "\n",
    "# Split duration into numerical and categorical components\n",
    "duration_split = netflix_clean['duration'].str.split(' ', expand=True)\n",
    "netflix_clean['duration_num'] = duration_split[0].astype(float)\n",
    "netflix_clean['duration_unit'] = duration_split[1]"
   ]
  },
  {
   "cell_type": "markdown",
   "metadata": {},
   "source": [
    "## 4. Exploratory Data Analysis"
   ]
  },
  {
   "cell_type": "markdown",
   "metadata": {},
   "source": [
    "### Content Type Distribution"
   ]
  },
  {
   "cell_type": "code",
   "execution_count": null,
   "metadata": {},
   "outputs": [],
   "source": [
    "plt.figure(figsize=(8, 5))\n",
    "type_dist = netflix_clean['type'].value_counts()\n",
    "plt.pie(type_dist, labels=type_dist.index, autopct='%1.1f%%',\n",
    "        colors=['#E50914', '#221F1F'], startangle=90)\n",
    "plt.title('Movies vs TV Shows Distribution')\n",
    "plt.show();"
   ]
  },
  {
   "cell_type": "markdown",
   "metadata": {},
   "source": [
    "### Content Additions Over Time"
   ]
  },
  {
   "cell_type": "code",
   "execution_count": null,
   "metadata": {},
   "outputs": [],
   "source": [
    "plt.figure(figsize=(12, 6))\n",
    "yearly_additions = netflix_clean.groupby('added_year').size()\n",
    "sns.lineplot(x=yearly_additions.index, y=yearly_additions.values,\n",
    "             color='#E50914', marker='o')\n",
    "plt.title('Netflix Content Additions Timeline')\n",
    "plt.xlabel('Year')\n",
    "plt.ylabel('Number of Titles Added')\n",
    "plt.xticks(yearly_additions.index)\n",
    "plt.show();"
   ]
  },
  {
   "cell_type": "markdown",
   "metadata": {},
   "source": [
    "## 5. Key Findings & Insights\n",
    "\n",
    "1. **Content Balance**:\n",
    "   - Movies dominate the catalog at 69.1% vs 30.9% TV Shows\n",
    "   \n",
    "2. **Growth Trajectory**:\n",
    "   - Significant content expansion from 2015-2019\n",
    "   - Peak additions in 2019 with over 2000 titles added\n",
    "   \n",
    "3. **Production Trends**:\n",
    "   - Increasing international content since 2018\n",
    "   - Average movie duration: 92 minutes\n",
    "   - Most common rating: TV-MA (Mature Audience)\n",
    "   \n",
    "4. **Seasonality**:\n",
    "   - Highest additions in December (holiday season)\n",
    "   - July shows consistent annual spikes\n",
    "\n",
    "## 6. Recommendations\n",
    "\n",
    "- **Content Strategy**: \n",
    "  - Increase TV Show production to improve balance\n",
    "  - Expand family-friendly content (currently only 12% of catalog)\n",
    "  \n",
    "- **Data Collection**:\n",
    "  - Implement mandatory country of origin reporting\n",
    "  - Add viewer engagement metrics for future analysis\n",
    "\n",
    "## 7. Future Analysis Directions\n",
    "\n",
    "- Sentiment analysis on descriptions\n",
    "- Genre popularity trends\n",
    "- Actor/director network analysis\n",
    "- Content longevity studies"
   ]
  }
 ],
 "metadata": {
  "kernelspec": { ... },
  "language_info": { ... }
 }
}
