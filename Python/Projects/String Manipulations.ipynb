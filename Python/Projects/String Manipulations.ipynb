{
 "cells": [
  {
   "cell_type": "markdown",
   "metadata": {},
   "source": [
    "# Olympic Athletes Data Cleaning Project\n",
    "## Comprehensive Analysis of Athlete Biographical Data"
   ]
  },
  {
   "cell_type": "markdown",
   "metadata": {},
   "source": [
    "## Introduction\n",
    "This project focuses on cleaning and analyzing Olympic athlete biographical data to extract meaningful insights about competitors' physical characteristics, origins, and lifespans. The cleaned dataset will enable further analysis of trends in athlete demographics across different Olympic games and nations."
   ]
  },
  {
   "cell_type": "markdown",
   "metadata": {},
   "source": [
    "## Background\n",
    "The dataset contains biographical information about Olympic athletes including:\n",
    "- Personal details (names, birth/death dates)\n",
    "- Physical measurements (height, weight)\n",
    "- Geographic origins (birth cities, countries, regions)\n",
    "- National Olympic Committee affiliations\n",
    "\n",
    "Key challenges addressed:\n",
    "- Inconsistent measurement formats (height/weight)\n",
    "- Complex date string parsing\n",
    "- Geographic location extraction from unstructured text\n",
    "- Handling missing and malformed data"
   ]
  },
  {
   "cell_type": "markdown",
   "metadata": {},
   "source": [
    "## Tools I Used\n",
    "**Data Processing & Cleaning:**\n",
    "- `Pandas` - Core data manipulation and transformation\n",
    "- `NumPy` - Numerical operations and conditional logic\n",
    "\n",
    "**String Processing:**\n",
    "- Regular expressions - For complex pattern matching in text fields\n",
    "- String operations - For cleaning and extracting substrings\n",
    "\n",
    "**Date Handling:**\n",
    "- `pd.to_datetime` - For converting diverse date formats\n",
    "\n",
    "**Workflow:**\n",
    "- Jupyter Notebook - Interactive development and documentation"
   ]
  },
  {
   "cell_type": "code",
   "execution_count": 1,
   "metadata": {},
   "outputs": [],
   "source": [
    "import pandas as pd, numpy as np, babel as bl, scipy as sp, seaborn as sns, matplotlib as plt\n",
    "from babel import numbers\n",
    "from scipy import stats"
   ]
  },
  {
   "cell_type": "markdown",
   "metadata": {},
   "source": [
    "## Data Loading & Initial Inspection"
   ]
  },
  {
   "cell_type": "code",
   "execution_count": 2,
   "metadata": {},
   "outputs": [
    {
     "data": {
      "text/html": [
       "<div>\n",
       "<style scoped>\n",
       "    .dataframe tbody tr th:only-of-type {\n",
       "        vertical-align: middle;\n",
       "    }\n",
       "\n",
       "    .dataframe tbody tr th {\n",
       "        vertical-align: top;\n",
       "    }\n",
       "\n",
       "    .dataframe thead th {\n",
       "        text-align: right;\n",
       "    }\n",
       "</style>\n",
       "<table border=\"1\" class=\"dataframe\">\n",
       "  <thead>\n",
       "    <tr style=\"text-align: right;\">\n",
       "      <th></th>\n",
       "      <th>Roles</th>\n",
       "      <th>Sex</th>\n",
       "      <th>Full name</th>\n",
       "      <th>Used name</th>\n",
       "      <th>Born</th>\n",
       "      <th>Died</th>\n",
       "      <th>NOC</th>\n",
       "      <th>athlete_id</th>\n",
       "      <th>Measurements</th>\n",
       "      <th>Affiliations</th>\n",
       "      <th>Nick/petnames</th>\n",
       "      <th>Title(s)</th>\n",
       "      <th>Other names</th>\n",
       "      <th>Nationality</th>\n",
       "      <th>Original name</th>\n",
       "      <th>Name order</th>\n",
       "    </tr>\n",
       "  </thead>\n",
       "  <tbody>\n",
       "    <tr>\n",
       "      <th>0</th>\n",
       "      <td>Competed in Olympic Games</td>\n",
       "      <td>Male</td>\n",
       "      <td>François Joseph Marie Antoine \"Jean-François\"•...</td>\n",
       "      <td>Jean-François•Blanchy</td>\n",
       "      <td>12 December 1886 in Bordeaux, Gironde (FRA)</td>\n",
       "      <td>2 October 1960 in Saint-Jean-de-Luz, Pyrénées-...</td>\n",
       "      <td>France</td>\n",
       "      <td>1</td>\n",
       "      <td>NaN</td>\n",
       "      <td>NaN</td>\n",
       "      <td>NaN</td>\n",
       "      <td>NaN</td>\n",
       "      <td>NaN</td>\n",
       "      <td>NaN</td>\n",
       "      <td>NaN</td>\n",
       "      <td>NaN</td>\n",
       "    </tr>\n",
       "    <tr>\n",
       "      <th>1</th>\n",
       "      <td>Competed in Olympic Games</td>\n",
       "      <td>Male</td>\n",
       "      <td>Arnaud Benjamin•Boetsch</td>\n",
       "      <td>Arnaud•Boetsch</td>\n",
       "      <td>1 April 1969 in Meulan, Yvelines (FRA)</td>\n",
       "      <td>NaN</td>\n",
       "      <td>France</td>\n",
       "      <td>2</td>\n",
       "      <td>183 cm / 76 kg</td>\n",
       "      <td>Racing Club de France, Paris (FRA)</td>\n",
       "      <td>NaN</td>\n",
       "      <td>NaN</td>\n",
       "      <td>NaN</td>\n",
       "      <td>NaN</td>\n",
       "      <td>NaN</td>\n",
       "      <td>NaN</td>\n",
       "    </tr>\n",
       "    <tr>\n",
       "      <th>2</th>\n",
       "      <td>Competed in Olympic Games • Administrator</td>\n",
       "      <td>Male</td>\n",
       "      <td>Jean Laurent Robert•Borotra</td>\n",
       "      <td>Jean•Borotra</td>\n",
       "      <td>13 August 1898 in Biarritz, Pyrénées-Atlantiqu...</td>\n",
       "      <td>17 July 1994 in Arbonne, Pyrénées-Atlantiques ...</td>\n",
       "      <td>France</td>\n",
       "      <td>3</td>\n",
       "      <td>183 cm / 76 kg</td>\n",
       "      <td>TCP, Paris (FRA)</td>\n",
       "      <td>Le Basque Bondissant (The Bounding Basque)</td>\n",
       "      <td>NaN</td>\n",
       "      <td>NaN</td>\n",
       "      <td>NaN</td>\n",
       "      <td>NaN</td>\n",
       "      <td>NaN</td>\n",
       "    </tr>\n",
       "  </tbody>\n",
       "</table>\n",
       "</div>"
      ],
      "text/plain": [
       "                                       Roles   Sex  \\\n",
       "0                  Competed in Olympic Games  Male   \n",
       "1                  Competed in Olympic Games  Male   \n",
       "2  Competed in Olympic Games • Administrator  Male   \n",
       "\n",
       "                                           Full name              Used name  \\\n",
       "0  François Joseph Marie Antoine \"Jean-François\"•...  Jean-François•Blanchy   \n",
       "1                            Arnaud Benjamin•Boetsch         Arnaud•Boetsch   \n",
       "2                        Jean Laurent Robert•Borotra           Jean•Borotra   \n",
       "\n",
       "                                                Born  \\\n",
       "0        12 December 1886 in Bordeaux, Gironde (FRA)   \n",
       "1             1 April 1969 in Meulan, Yvelines (FRA)   \n",
       "2  13 August 1898 in Biarritz, Pyrénées-Atlantiqu...   \n",
       "\n",
       "                                                Died     NOC  athlete_id  \\\n",
       "0  2 October 1960 in Saint-Jean-de-Luz, Pyrénées-...  France           1   \n",
       "1                                                NaN  France           2   \n",
       "2  17 July 1994 in Arbonne, Pyrénées-Atlantiques ...  France           3   \n",
       "\n",
       "     Measurements                        Affiliations  \\\n",
       "0             NaN                                 NaN   \n",
       "1  183 cm / 76 kg  Racing Club de France, Paris (FRA)   \n",
       "2  183 cm / 76 kg                    TCP, Paris (FRA)   \n",
       "\n",
       "                                Nick/petnames Title(s) Other names  \\\n",
       "0                                         NaN      NaN         NaN   \n",
       "1                                         NaN      NaN         NaN   \n",
       "2  Le Basque Bondissant (The Bounding Basque)      NaN         NaN   \n",
       "\n",
       "  Nationality Original name Name order  \n",
       "0         NaN           NaN        NaN  \n",
       "1         NaN           NaN        NaN  \n",
       "2         NaN           NaN        NaN  "
      ]
     },
     "execution_count": 2,
     "metadata": {},
     "output_type": "execute_result"
    }
   ],
   "source": [
    "# Load raw athlete bios data\n",
    "df_1 = pd.DataFrame(pd.read_csv('/Users/brtelfer/Documents/Python_Data_Projects/*18_Olympics_Data_Cleaning/bios.csv'))\n",
    "df_1.head(3)"
   ]
  },
  {
   "cell_type": "markdown",
   "metadata": {},
   "source": [
    "## Data Cleaning Process"
   ]
  },
  {
   "cell_type": "markdown",
   "metadata": {},
   "source": [
    "### 1. Name Standardization"
   ]
  },
  {
   "cell_type": "code",
   "execution_count": 3,
   "metadata": {},
   "outputs": [],
   "source": [
    "# Create working copy\n",
    "df = df_1.copy()\n",
    "\n",
    "# Clean special characters from names\n",
    "df['Used name'] = df['Used name'].str.replace(\"•\",\" \")"
   ]
  },
  {
   "cell_type": "markdown",
   "metadata": {},
   "source": [
    "### 2. Height & Weight Extraction"
   ]
  },
  {
   "cell_type": "code",
   "execution_count": 4,
   "metadata": {},
   "outputs": [],
   "source": [
    "# Split measurements into height and weight\n",
    "df[['Height_cm','Weight_kg']] = df['Measurements'].str.split('/', expand=True)\n",
    "\n",
    "# Clean units from measurements\n",
    "df['Height_cm'] = df['Height_cm'].str.replace('cm',' ')\n",
    "df['Weight_kg'] = df['Weight_kg'].str.replace('kg',' ')\n",
    "\n",
    "# Handle cases where measurements were swapped\n",
    "df['Weight_kg'] = np.where(df['Weight_kg'].str.contains(\"cm\"), np.nan, df['Weight_kg'])\n",
    "df['Height_cm'] = np.where(df['Height_cm'].str.contains(\"kg\"), np.nan, df['Height_cm'])"
   ]
  },
  {
   "cell_type": "markdown",
   "metadata": {},
   "source": [
    "### 3. Date Processing"
   ]
  },
  {
   "cell_type": "code",
   "execution_count": 5,
   "metadata": {},
   "outputs": [],
   "source": [
    "# Complex regex pattern to extract birth dates\n",
    "pattern ='(^\\d{1,2}\\s\\w+\\s\\d{4}|^\\d{4}|^\\w+|^\\(\\w+\\s\\d{4}\\)|^\\(\\d{4}\\s\\w+\\s\\d{4}\\)|\\(c\\.\\s\\d{4}\\))'\n",
    "df['Birthday'] = df['Born'].str.extract(rf'{pattern}')\n",
    "\n",
    "# Convert to datetime\n",
    "df['Birthday'] = pd.to_datetime(df['Birthday'], format='mixed', errors='coerce')\n",
    "\n",
    "# Same process for death dates\n",
    "df['Deathday'] = df['Died'].str.extract(rf'{pattern}')\n",
    "df['Deathday'] = pd.to_datetime(df['Deathday'], format='mixed', errors='coerce')"
   ]
  },
  {
   "cell_type": "markdown",
   "metadata": {},
   "source": [
    "### 4. Geographic Data Extraction"
   ]
  },
  {
   "cell_type": "code",
   "execution_count": 6,
   "metadata": {},
   "outputs": [],
   "source": [
    "# Extract birth location components\n",
    "df['Born_City'] = df['Born'].str.extract(r'in\\s(.*),')\n",
    "df['Born_Country'] = df['Born'].str.extract(r',\\s(.*)\\s')\n",
    "df['Born_Region'] = df['Born'].str.extract(r'\\((\\w+)\\)$')"
   ]
  },
  {
   "cell_type": "markdown",
   "metadata": {},
   "source": [
    "## Final Data Structure"
   ]
  },
  {
   "cell_type": "code",
   "execution_count": 7,
   "metadata": {},
   "outputs": [
    {
     "data": {
      "text/html": [
       "<div>\n",
       "<style scoped>\n",
       "    .dataframe tbody tr th:only-of-type {\n",
       "        vertical-align: middle;\n",
       "    }\n",
       "\n",
       "    .dataframe tbody tr th {\n",
       "        vertical-align: top;\n",
       "    }\n",
       "\n",
       "    .dataframe thead th {\n",
       "        text-align: right;\n",
       "    }\n",
       "</style>\n",
       "<table border=\"1\" class=\"dataframe\">\n",
       "  <thead>\n",
       "    <tr style=\"text-align: right;\">\n",
       "      <th></th>\n",
       "      <th>athlete_id</th>\n",
       "      <th>Full name</th>\n",
       "      <th>Birthday</th>\n",
       "      <th>Born_City</th>\n",
       "      <th>Born_Region</th>\n",
       "      <th>Born_Country</th>\n",
       "      <th>NOC</th>\n",
       "      <th>Height_cm</th>\n",
       "      <th>Weight_kg</th>\n",
       "      <th>Deathday</th>\n",
       "    </tr>\n",
       "  </thead>\n",
       "  <tbody>\n",
       "    <tr>\n",
       "      <th>0</th>\n",
       "      <td>1</td>\n",
       "      <td>François Joseph Marie Antoine \"Jean-François\"•...</td>\n",
       "      <td>1886-12-12</td>\n",
       "      <td>Bordeaux</td>\n",
       "      <td>FRA</td>\n",
       "      <td>Gironde</td>\n",
       "      <td>France</td>\n",
       "      <td>NaN</td>\n",
       "      <td>NaN</td>\n",
       "      <td>1960-10-02</td>\n",
       "    </tr>\n",
       "    <tr>\n",
       "      <th>1</th>\n",
       "      <td>2</td>\n",
       "      <td>Arnaud Benjamin•Boetsch</td>\n",
       "      <td>1969-04-01</td>\n",
       "      <td>Meulan</td>\n",
       "      <td>FRA</td>\n",
       "      <td>Yvelines</td>\n",
       "      <td>France</td>\n",
       "      <td>183</td>\n",
       "      <td>76</td>\n",
       "      <td>NaT</td>\n",
       "    </tr>\n",
       "    <tr>\n",
       "      <th>2</th>\n",
       "      <td>3</td>\n",
       "      <td>Jean Laurent Robert•Borotra</td>\n",
       "      <td>1898-08-13</td>\n",
       "      <td>Biarritz</td>\n",
       "      <td>FRA</td>\n",
       "      <td>Pyrénées-Atlantiques</td>\n",
       "      <td>France</td>\n",
       "      <td>183</td>\n",
       "      <td>76</td>\n",
       "      <td>1994-07-17</td>\n",
       "    </tr>\n",
       "    <tr>\n",
       "      <th>3</th>\n",
       "      <td>4</td>\n",
       "      <td>Jacques Marie Stanislas Jean•Brugnon</td>\n",
       "      <td>1895-05-11</td>\n",
       "      <td>Paris VIIIe</td>\n",
       "      <td>FRA</td>\n",
       "      <td>Paris</td>\n",
       "      <td>France</td>\n",
       "      <td>168</td>\n",
       "      <td>64</td>\n",
       "      <td>1978-03-20</td>\n",
       "    </tr>\n",
       "    <tr>\n",
       "      <th>4</th>\n",
       "      <td>5</td>\n",
       "      <td>Henry Albert•Canet</td>\n",
       "      <td>1878-04-17</td>\n",
       "      <td>Wandsworth</td>\n",
       "      <td>GBR</td>\n",
       "      <td>England</td>\n",
       "      <td>France</td>\n",
       "      <td>NaN</td>\n",
       "      <td>NaN</td>\n",
       "      <td>1930-07-25</td>\n",
       "    </tr>\n",
       "  </tbody>\n",
       "</table>\n",
       "</div>"
      ],
      "text/plain": [
       "   athlete_id                                          Full name   Birthday  \\\n",
       "0           1  François Joseph Marie Antoine \"Jean-François\"•... 1886-12-12   \n",
       "1           2                            Arnaud Benjamin•Boetsch 1969-04-01   \n",
       "2           3                        Jean Laurent Robert•Borotra 1898-08-13   \n",
       "3           4               Jacques Marie Stanislas Jean•Brugnon 1895-05-11   \n",
       "4           5                                 Henry Albert•Canet 1878-04-17   \n",
       "\n",
       "     Born_City Born_Region          Born_Country     NOC Height_cm Weight_kg  \\\n",
       "0     Bordeaux         FRA               Gironde  France       NaN       NaN   \n",
       "1       Meulan         FRA              Yvelines  France    183         76     \n",
       "2     Biarritz         FRA  Pyrénées-Atlantiques  France    183         76     \n",
       "3  Paris VIIIe         FRA                 Paris  France    168         64     \n",
       "4   Wandsworth         GBR               England  France       NaN       NaN   \n",
       "\n",
       "    Deathday  \n",
       "0 1960-10-02  \n",
       "1        NaT  \n",
       "2 1994-07-17  \n",
       "3 1978-03-20  \n",
       "4 1930-07-25  "
      ]
     },
     "execution_count": 7,
     "metadata": {},
     "output_type": "execute_result"
    }
   ],
   "source": [
    "# Select relevant columns for cleaned dataset\n",
    "columns_to_keep = ['athlete_id', 'Full name','Birthday', 'Born_City', 'Born_Region', 'Born_Country', 'NOC', 'Height_cm', 'Weight_kg', 'Deathday']\n",
    "df_c = df[columns_to_keep]\n",
    "\n",
    "# Display cleaned data structure\n",
    "df_c.head()"
   ]
  },
  {
   "cell_type": "markdown",
   "metadata": {},
   "source": [
    "## Key Insights & Next Steps"
   ]
  },
  {
   "cell_type": "markdown",
   "metadata": {},
   "source": [
    "**Data Quality Assessment:**\n",
    "- Successfully extracted structured data from complex text fields\n",
    "- Handled edge cases in measurement and date formats\n",
    "- Maintained data integrity through transformation pipeline\n",
    "\n",
    "**Potential Analyses:**\n",
    "1. Athlete physical characteristics by sport/country\n",
    "2. Longevity trends across Olympic generations\n",
    "3. Geographic distribution of athletes\n",
    "4. Height/weight correlations with performance\n",
    "\n",
    "**Future Improvements:**\n",
    "- Additional validation for extracted dates\n",
    "- Standardization of country/region names\n",
    "- Integration with competition results data"
   ]
  }
 ],
 "metadata": {
  "kernelspec": {
   "display_name": "Remote_Work_Env",
   "language": "python",
   "name": "python3"
  },
  "language_info": {
   "codemirror_mode": {
    "name": "ipython",
    "version": 3
   },
   "file_extension": ".py",
   "mimetype": "text/x-python",
   "name": "python",
   "nbconvert_exporter": "python",
   "pygments_lexer": "ipython3",
   "version": "3.10.16"
  }
 },
 "nbformat": 4,
 "nbformat_minor": 2
}
